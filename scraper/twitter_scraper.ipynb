{
 "cells": [
  {
   "cell_type": "code",
   "execution_count": 2,
   "metadata": {},
   "outputs": [],
   "source": [
    "import tweepy\n",
    "from tweepy import OAuthHandler\n",
    "import pandas as pd\n",
    "pd.set_option('display.max_colwidth', None)\n",
    "\n",
    "consumer_key= 'maIS6lxgXN5a41WCXA4mG2xXB'\n",
    "consumer_secret= '649l6RQZh74xfusSyrGWcm9n65bBD3FQ1qBUY2lpffpW3O2NGz'\n",
    "access_token= '1947162528-h6f9zcAPcUHBzVlamjOyXsS8HFtRmgvVkYnmAZ2'\n",
    "access_token_secret= 'hwz6ncD2vT66iXdPkI1yPRUHQp5XBZgslpAe2IScSgEzm'\n",
    "\n",
    "# Creating the authentication object\n",
    "auth = tweepy.OAuthHandler(consumer_key, consumer_secret)\n",
    "# Setting your access token and secret\n",
    "auth.set_access_token(access_token, access_token_secret)\n",
    "# Creating the API object while passing in auth information\n",
    "api = tweepy.API(auth) "
   ]
  },
  {
   "cell_type": "code",
   "execution_count": 20,
   "metadata": {},
   "outputs": [
    {
     "output_type": "display_data",
     "data": {
      "text/plain": "                                                                                                                                                                                                                                                                        tweet_content\n0                                               RESULTS - Sunday 18 October 2020\\n\\nSWPL1\\nForfar Farmington 4-2 Motherwell\\nHibernian 2-1 Spartans\\nRangers 5-1 Hearts\\n\\nSWPL2\\nAberdeen 4-3 Dundee United\\nGlasgow Women 4-0 Stirling University\\nQueen's Park 0-3 Partick Thistle\n1                                                                                                      Dumpy’s Rusty Nuts inviting me on stage at Glasgow Uni to do the highland fling. Asked me to drop my trousers and then poured a bottle of Newcy Brown on my bum. (Long story.)\n2                                      FT: Glasgow Women 4-0 Stirling University\\n\\nSuzie McTaggart added a fourth just after the interval as Glasgow Women make a vibrant start to the season particularly in the opening hour. Stirling University will have some regrouping to do.\n3                 Glasgow Women's third goal in particular was borne out of the confidence from the opening period.\\n\\nPlaying with a verve that having a squad primarily made up with youth can bring when the going is good.\\n\\nStirling Uni need to find a way back into the game.\n4   HT: Glasgow Women 3-0 Stirling University\\n\\nDominant opening period from the home side. Abbi McDonald with an opportunistic opener before some nimble work on the edge of the box from Lucy Ronald forced an OG.\\n\\nTara McGonigle smashing in a third just before the interval.\n..                                                                                                                                                                                                                                                                                ...\n80                                                           Expanding from the medieval bishopric and Royal Burgh and the later establishment of the University of Glasgow in the fifteenth century it became a major centre of the Scottish Enlightenment in the eighteenth century\n81                                                                                                                                                                                                                       The Glasgow uni accent is real... I’m really not here for it\n82                                                                                                                                                                                                            Is@CaffeMonzaUK#partick#glasgow#turning into a Uni online common room ?\n83                                                                                                                                                                                           The Chineses’ in Glasgow are outrageous, why did I go to uni in Stirling n not Glasgow 🤒\n84                                                                                                                                                                                         Canny believe a fucking chose to study in glasgow the year we all end up studying at home.\n\n[85 rows x 1 columns]",
      "text/html": "<div>\n<style scoped>\n    .dataframe tbody tr th:only-of-type {\n        vertical-align: middle;\n    }\n\n    .dataframe tbody tr th {\n        vertical-align: top;\n    }\n\n    .dataframe thead th {\n        text-align: right;\n    }\n</style>\n<table border=\"1\" class=\"dataframe\">\n  <thead>\n    <tr style=\"text-align: right;\">\n      <th></th>\n      <th>tweet_content</th>\n    </tr>\n  </thead>\n  <tbody>\n    <tr>\n      <th>0</th>\n      <td>RESULTS - Sunday 18 October 2020\\n\\nSWPL1\\nForfar Farmington 4-2 Motherwell\\nHibernian 2-1 Spartans\\nRangers 5-1 Hearts\\n\\nSWPL2\\nAberdeen 4-3 Dundee United\\nGlasgow Women 4-0 Stirling University\\nQueen's Park 0-3 Partick Thistle</td>\n    </tr>\n    <tr>\n      <th>1</th>\n      <td>Dumpy’s Rusty Nuts inviting me on stage at Glasgow Uni to do the highland fling. Asked me to drop my trousers and then poured a bottle of Newcy Brown on my bum. (Long story.)</td>\n    </tr>\n    <tr>\n      <th>2</th>\n      <td>FT: Glasgow Women 4-0 Stirling University\\n\\nSuzie McTaggart added a fourth just after the interval as Glasgow Women make a vibrant start to the season particularly in the opening hour. Stirling University will have some regrouping to do.</td>\n    </tr>\n    <tr>\n      <th>3</th>\n      <td>Glasgow Women's third goal in particular was borne out of the confidence from the opening period.\\n\\nPlaying with a verve that having a squad primarily made up with youth can bring when the going is good.\\n\\nStirling Uni need to find a way back into the game.</td>\n    </tr>\n    <tr>\n      <th>4</th>\n      <td>HT: Glasgow Women 3-0 Stirling University\\n\\nDominant opening period from the home side. Abbi McDonald with an opportunistic opener before some nimble work on the edge of the box from Lucy Ronald forced an OG.\\n\\nTara McGonigle smashing in a third just before the interval.</td>\n    </tr>\n    <tr>\n      <th>...</th>\n      <td>...</td>\n    </tr>\n    <tr>\n      <th>80</th>\n      <td>Expanding from the medieval bishopric and Royal Burgh and the later establishment of the University of Glasgow in the fifteenth century it became a major centre of the Scottish Enlightenment in the eighteenth century</td>\n    </tr>\n    <tr>\n      <th>81</th>\n      <td>The Glasgow uni accent is real... I’m really not here for it</td>\n    </tr>\n    <tr>\n      <th>82</th>\n      <td>Is@CaffeMonzaUK#partick#glasgow#turning into a Uni online common room ?</td>\n    </tr>\n    <tr>\n      <th>83</th>\n      <td>The Chineses’ in Glasgow are outrageous, why did I go to uni in Stirling n not Glasgow 🤒</td>\n    </tr>\n    <tr>\n      <th>84</th>\n      <td>Canny believe a fucking chose to study in glasgow the year we all end up studying at home.</td>\n    </tr>\n  </tbody>\n</table>\n<p>85 rows × 1 columns</p>\n</div>"
     },
     "metadata": {}
    }
   ],
   "source": [
    "row_list = []\n",
    "lowest_id = float('inf')\n",
    "\n",
    "# The search term I want to find\n",
    "# query = \"glasgow student OR glasgow university OR glasgow uni OR studying glasgow OR glasgow class OR -FC -filter:retweets -filter:links -filter:mentions\"\n",
    "\n",
    "query = \"glasgow university OR uni OR student OR studying -FC -filter:retweets -filter:links -filter:mentions\"\n",
    "\n",
    "\n",
    "#query = \"edinburgh student OR edinburgh university OR edinburgh uni OR edinburgh uni satisfaction -filter:retweets -filter:links -filter:mentions\"\n",
    "\n",
    "# Language code \n",
    "language = \"en\"\n",
    "\n",
    "# Searching tweets with our parameters\n",
    "results = api.search(q=query, lang=language, tweet_mode='extended', count=100)\n",
    "\n",
    "# loop through all tweets pulled\n",
    "for tweet in results:\n",
    "    row_list.append(tweet.full_text)\n",
    "    # if tweet.id < lowest_id:\n",
    "    #     lowest_id = tweet.id \n",
    "\n",
    "    \n",
    "    \n",
    "df=pd.DataFrame(row_list,columns=['tweet_content'])\n",
    "\n",
    "with pd.option_context('display.max_colwidth', None):\n",
    "  display(df)\n",
    "\n"
   ]
  },
  {
   "cell_type": "code",
   "execution_count": 92,
   "metadata": {},
   "outputs": [
    {
     "output_type": "display_data",
     "data": {
      "text/plain": "                                                                                                                                                                                                                                                                               tweet_content\n0                           2) Responses from actual doctors and scientists :\\nA) “Devi Sridhar, professor of global public health at Edinburgh University and an adviser to the Scottish government, said she did not agree with it and that the letter was not “scientific” or “accurate.”\n1                                                                                                                                                            genuinely  incredible  edinburgh  uni students  can live in scotland  for  four years  and  not meet a single  scottish  person\n2      Edinburgh Uni public health expert Prof Bauld: “People can easily pass on the virus early in an infection and before they have any symptoms - we know this from a number of studies. So contacts need to be reached as soon as possible to avoid them passing the virus onto others.\"\n3                                                                                                                                            4 out of 5 people don’t self-isolate if they show symptoms of Covid in Scotland according to an expert from Edinburgh Uni on Politics Scotland.\n4                                                                                                                                                                                                                                                        university of edinburgh in 2022✨✨✨✨\n5                            As I finish up the 2018-2019 series of University Challenge, I’m still irritated at Paxman’s blatant favoritism towards St. Edward’s Hall over Bristol when it came to allowing hesitant answers/wasting time. Bristol was robbed &amp; I’m glad Edinburgh won.\n6   Dr. Ellen Townsend, professor of psychology, head of the Self-Harm Research Group, University of Nottingham, England\\n\\nDr. Lisa White, professor of modelling and epidemiology, Oxford University, England\\n\\nDr. Simon Wood, biostatistician and professor, Uni of Edinburgh, Scotland\n7                                                                                                                                                                                                       My uncle was Emeritus Professor of Gastropodian Campanology at Edinburgh University.\n8    Dr. Helen Colhoun,\\nprofessor of medical informatics and epidemiology, and public health physician, University of Edinburgh, Scotland\\n\\nDr. Angus Dalgleish,\\noncologist, infectious disease expert and professor, St. George’s Hospital Medical School, University of London, England\n9            North Berwick in east lothian has over 40 restaurants and cafes + hotels, pubs ,golf clubs etc. It was busy. Last week it recorded zero new cases of covid. Dalkeith rd in edinburgh was lothians covid  hotspot ,220 cases. few pubs ,cafes ,restaurants but a student campus.\n10                                                                                                                                                                                         57- Brilliant finish by Ross Philp who expertly finishes past the Edinburgh Uni keeper. 3-0 Kelty\n11                                                                                                                                                                                                                                          Edinburgh Uni gets us underway for the 2nd half!\n12                                                                                                                          ⚽️ Half time scores: Cowdenbeath 0-0 Hearts, Edinburgh City 1-1 Stenhousemuir, East Stirling 0-0 Civil, Gretna 2008 0-1 Spartans and Kelty 2-0 Edinburgh Uni. ⚽️\n13                                                                                                                                                                                                     43- Good strike on the half volley by Higginbotham saved by the Edinburgh Uni keeper.\n14                                                                                                                                                          36- Penalty slotted away by Kallum Higginbotham after a handball in the Edinburgh Uni box. Kelty finally have the breakthrough⚽️\n15                                                                                                                                                                                                                            32- Penalty shout for Edinburgh Uni waved away by the referee.\n16                                                                                                                                                                                                       19- Edinburgh Uni’s goalkeeper down injured after a clash with Kallum Higginbotham.",
      "text/html": "<div>\n<style scoped>\n    .dataframe tbody tr th:only-of-type {\n        vertical-align: middle;\n    }\n\n    .dataframe tbody tr th {\n        vertical-align: top;\n    }\n\n    .dataframe thead th {\n        text-align: right;\n    }\n</style>\n<table border=\"1\" class=\"dataframe\">\n  <thead>\n    <tr style=\"text-align: right;\">\n      <th></th>\n      <th>tweet_content</th>\n    </tr>\n  </thead>\n  <tbody>\n    <tr>\n      <th>0</th>\n      <td>2) Responses from actual doctors and scientists :\\nA) “Devi Sridhar, professor of global public health at Edinburgh University and an adviser to the Scottish government, said she did not agree with it and that the letter was not “scientific” or “accurate.”</td>\n    </tr>\n    <tr>\n      <th>1</th>\n      <td>genuinely  incredible  edinburgh  uni students  can live in scotland  for  four years  and  not meet a single  scottish  person</td>\n    </tr>\n    <tr>\n      <th>2</th>\n      <td>Edinburgh Uni public health expert Prof Bauld: “People can easily pass on the virus early in an infection and before they have any symptoms - we know this from a number of studies. So contacts need to be reached as soon as possible to avoid them passing the virus onto others.\"</td>\n    </tr>\n    <tr>\n      <th>3</th>\n      <td>4 out of 5 people don’t self-isolate if they show symptoms of Covid in Scotland according to an expert from Edinburgh Uni on Politics Scotland.</td>\n    </tr>\n    <tr>\n      <th>4</th>\n      <td>university of edinburgh in 2022✨✨✨✨</td>\n    </tr>\n    <tr>\n      <th>5</th>\n      <td>As I finish up the 2018-2019 series of University Challenge, I’m still irritated at Paxman’s blatant favoritism towards St. Edward’s Hall over Bristol when it came to allowing hesitant answers/wasting time. Bristol was robbed &amp;amp; I’m glad Edinburgh won.</td>\n    </tr>\n    <tr>\n      <th>6</th>\n      <td>Dr. Ellen Townsend, professor of psychology, head of the Self-Harm Research Group, University of Nottingham, England\\n\\nDr. Lisa White, professor of modelling and epidemiology, Oxford University, England\\n\\nDr. Simon Wood, biostatistician and professor, Uni of Edinburgh, Scotland</td>\n    </tr>\n    <tr>\n      <th>7</th>\n      <td>My uncle was Emeritus Professor of Gastropodian Campanology at Edinburgh University.</td>\n    </tr>\n    <tr>\n      <th>8</th>\n      <td>Dr. Helen Colhoun,\\nprofessor of medical informatics and epidemiology, and public health physician, University of Edinburgh, Scotland\\n\\nDr. Angus Dalgleish,\\noncologist, infectious disease expert and professor, St. George’s Hospital Medical School, University of London, England</td>\n    </tr>\n    <tr>\n      <th>9</th>\n      <td>North Berwick in east lothian has over 40 restaurants and cafes + hotels, pubs ,golf clubs etc. It was busy. Last week it recorded zero new cases of covid. Dalkeith rd in edinburgh was lothians covid  hotspot ,220 cases. few pubs ,cafes ,restaurants but a student campus.</td>\n    </tr>\n    <tr>\n      <th>10</th>\n      <td>57- Brilliant finish by Ross Philp who expertly finishes past the Edinburgh Uni keeper. 3-0 Kelty</td>\n    </tr>\n    <tr>\n      <th>11</th>\n      <td>Edinburgh Uni gets us underway for the 2nd half!</td>\n    </tr>\n    <tr>\n      <th>12</th>\n      <td>⚽️ Half time scores: Cowdenbeath 0-0 Hearts, Edinburgh City 1-1 Stenhousemuir, East Stirling 0-0 Civil, Gretna 2008 0-1 Spartans and Kelty 2-0 Edinburgh Uni. ⚽️</td>\n    </tr>\n    <tr>\n      <th>13</th>\n      <td>43- Good strike on the half volley by Higginbotham saved by the Edinburgh Uni keeper.</td>\n    </tr>\n    <tr>\n      <th>14</th>\n      <td>36- Penalty slotted away by Kallum Higginbotham after a handball in the Edinburgh Uni box. Kelty finally have the breakthrough⚽️</td>\n    </tr>\n    <tr>\n      <th>15</th>\n      <td>32- Penalty shout for Edinburgh Uni waved away by the referee.</td>\n    </tr>\n    <tr>\n      <th>16</th>\n      <td>19- Edinburgh Uni’s goalkeeper down injured after a clash with Kallum Higginbotham.</td>\n    </tr>\n  </tbody>\n</table>\n</div>"
     },
     "metadata": {}
    }
   ],
   "source": [
    "# Searching tweets with our parameters\n",
    "results = api.search(q=query, lang=language, tweet_mode='extended', count=50, max_id=lowest_id , granularity=\"city\")\n",
    "\n",
    "row_list= []\n",
    "# loop through all tweets pulled\n",
    "for tweet in results:\n",
    "    row_list.append(tweet.full_text)\n",
    "\n",
    "    \n",
    "df=pd.DataFrame(row_list,columns=['tweet_content'])\n",
    "\n",
    "with pd.option_context('display.max_colwidth', None):\n",
    "  display(df)"
   ]
  },
  {
   "cell_type": "code",
   "execution_count": 10,
   "metadata": {},
   "outputs": [
    {
     "output_type": "execute_result",
     "data": {
      "text/plain": [
       "                                                review  score\n",
       "0    A shambles, completely unorganised and clearly...      0\n",
       "1    This school is absolute b******. I'm in the MS...      0\n",
       "2    As an international student, lecturers are gre...      1\n",
       "3    I have had a terrible experience at this unive...      0\n",
       "4    I do love my university. The staff are extreme...      1\n",
       "..                                                 ...    ...\n",
       "229  Fantastic environment and gorgeoud scenery. Th...      1\n",
       "230  The campus contains everything you could ever ...      1\n",
       "231  The campus is beautiful and it offers over 100...      1\n",
       "232  I'm study in the highland campus in Inverness....      0\n",
       "233  Wifi drops off easily and applying for accommo...      0\n",
       "\n",
       "[234 rows x 2 columns]"
      ],
      "text/html": "<div>\n<style scoped>\n    .dataframe tbody tr th:only-of-type {\n        vertical-align: middle;\n    }\n\n    .dataframe tbody tr th {\n        vertical-align: top;\n    }\n\n    .dataframe thead th {\n        text-align: right;\n    }\n</style>\n<table border=\"1\" class=\"dataframe\">\n  <thead>\n    <tr style=\"text-align: right;\">\n      <th></th>\n      <th>review</th>\n      <th>score</th>\n    </tr>\n  </thead>\n  <tbody>\n    <tr>\n      <th>0</th>\n      <td>A shambles, completely unorganised and clearly...</td>\n      <td>0</td>\n    </tr>\n    <tr>\n      <th>1</th>\n      <td>This school is absolute b******. I'm in the MS...</td>\n      <td>0</td>\n    </tr>\n    <tr>\n      <th>2</th>\n      <td>As an international student, lecturers are gre...</td>\n      <td>1</td>\n    </tr>\n    <tr>\n      <th>3</th>\n      <td>I have had a terrible experience at this unive...</td>\n      <td>0</td>\n    </tr>\n    <tr>\n      <th>4</th>\n      <td>I do love my university. The staff are extreme...</td>\n      <td>1</td>\n    </tr>\n    <tr>\n      <th>...</th>\n      <td>...</td>\n      <td>...</td>\n    </tr>\n    <tr>\n      <th>229</th>\n      <td>Fantastic environment and gorgeoud scenery. Th...</td>\n      <td>1</td>\n    </tr>\n    <tr>\n      <th>230</th>\n      <td>The campus contains everything you could ever ...</td>\n      <td>1</td>\n    </tr>\n    <tr>\n      <th>231</th>\n      <td>The campus is beautiful and it offers over 100...</td>\n      <td>1</td>\n    </tr>\n    <tr>\n      <th>232</th>\n      <td>I'm study in the highland campus in Inverness....</td>\n      <td>0</td>\n    </tr>\n    <tr>\n      <th>233</th>\n      <td>Wifi drops off easily and applying for accommo...</td>\n      <td>0</td>\n    </tr>\n  </tbody>\n</table>\n<p>234 rows × 2 columns</p>\n</div>"
     },
     "metadata": {},
     "execution_count": 10
    }
   ],
   "source": [
    "import pandas as pd\n",
    "import glob\n",
    "\n",
    "path = r'E:\\GitHubProjects\\dissertation\\scraper\\approved_datasets' # use your path\n",
    "all_files = glob.glob(path + \"/*.csv\")\n",
    "\n",
    "li = []\n",
    "\n",
    "for filename in all_files:\n",
    "    df = pd.read_csv(filename, index_col=None, header=0)\n",
    "    li.append(df)\n",
    "\n",
    "frame = pd.concat(li, axis=0, ignore_index=True)\n",
    "frame"
   ]
  },
  {
   "cell_type": "code",
   "execution_count": 11,
   "metadata": {},
   "outputs": [
    {
     "output_type": "execute_result",
     "data": {
      "text/plain": [
       "1    170\n",
       "0     64\n",
       "Name: score, dtype: int64"
      ]
     },
     "metadata": {},
     "execution_count": 11
    }
   ],
   "source": [
    "frame.score.value_counts()"
   ]
  },
  {
   "cell_type": "code",
   "execution_count": null,
   "metadata": {},
   "outputs": [],
   "source": []
  }
 ],
 "metadata": {
  "kernelspec": {
   "name": "Python 3.8.5 64-bit ('dissertation': conda)",
   "display_name": "Python 3.8.5 64-bit ('dissertation': conda)",
   "metadata": {
    "interpreter": {
     "hash": "dccb0c508fcc3265487c0045bf494404dc5148cb1c17dbd3e70d1418c59a7232"
    }
   }
  },
  "language_info": {
   "codemirror_mode": {
    "name": "ipython",
    "version": 3
   },
   "file_extension": ".py",
   "mimetype": "text/x-python",
   "name": "python",
   "nbconvert_exporter": "python",
   "pygments_lexer": "ipython3",
   "version": "3.8.5-final"
  }
 },
 "nbformat": 4,
 "nbformat_minor": 4
}