{
 "metadata": {
  "language_info": {
   "codemirror_mode": {
    "name": "ipython",
    "version": 3
   },
   "file_extension": ".py",
   "mimetype": "text/x-python",
   "name": "python",
   "nbconvert_exporter": "python",
   "pygments_lexer": "ipython3",
   "version": "3.7.9-final"
  },
  "orig_nbformat": 2,
  "kernelspec": {
   "name": "python3",
   "display_name": "Python 3.7.9 64-bit ('dissertation': conda)",
   "metadata": {
    "interpreter": {
     "hash": "dccb0c508fcc3265487c0045bf494404dc5148cb1c17dbd3e70d1418c59a7232"
    }
   }
  }
 },
 "nbformat": 4,
 "nbformat_minor": 2,
 "cells": [
  {
   "cell_type": "code",
   "execution_count": 3,
   "metadata": {},
   "outputs": [
    {
     "output_type": "stream",
     "name": "stdout",
     "text": [
      "E:\\Program Files (x86)\\Anaconda3\\envs\\dissertation\\python.exe\n"
     ]
    }
   ],
   "source": [
    "import sys\n",
    "print(sys.executable)"
   ]
  },
  {
   "cell_type": "code",
   "execution_count": 4,
   "metadata": {},
   "outputs": [],
   "source": [
    "import tensorflow as tf\n",
    "\n",
    "# from keras.layers import Dense, Conv1D, GlobalMaxPooling1D\n",
    "# from keras.layers.embeddings import Embedding\n",
    "from sklearn.model_selection import train_test_split\n",
    "from nltk.tokenize import RegexpTokenizer \n",
    "import numpy as np\n",
    "\n",
    "sys.path.append('E:\\GitHubProjects\\dissertation\\Scripts')\n",
    "import helperfn as hf\n",
    "\n",
    "%load_ext autoreload\n",
    "%autoreload 2"
   ]
  },
  {
   "cell_type": "code",
   "execution_count": 5,
   "metadata": {},
   "outputs": [],
   "source": [
    "from gensim.models import KeyedVectors\n",
    "embedding_model = KeyedVectors.load_word2vec_format(r'E:\\GitHubProjects\\dissertation\\word2vec\\GoogleNews-vectors-negative300.bin', binary=True)\n",
    "# If we don't plan to train the model any further, calling init_sims will make the model much more memory-efficient.\n",
    "embedding_model.init_sims(replace=True)"
   ]
  },
  {
   "source": [
    "## Loading and Pre-processing the dataset"
   ],
   "cell_type": "markdown",
   "metadata": {}
  },
  {
   "cell_type": "code",
   "execution_count": 6,
   "metadata": {
    "tags": []
   },
   "outputs": [],
   "source": [
    "from nltk.corpus import stopwords\n",
    "stop = stopwords.words('english')\n",
    "#convert to set for faster retrival\n",
    "stop = set(stop)\n",
    "stop_to_remove = {'no', 'nor', 'not', 'very', 'don', \"don't\", \"aren't\", 'couldn', \"couldn't\", 'didn', \"didn't\",\n",
    "      'doesn', \"doesn't\", 'hadn', \"hadn't\", 'hasn', \"hasn't\", 'haven', \"haven't\",\n",
    "      'isn', \"isn't\", 'mightn', \"mightn't\", 'mustn', \"mustn't\", 'needn', \"needn't\", 'shan', \"shan't\",\n",
    "      'shouldn', \"shouldn't\", 'wasn', \"wasn't\", 'weren', \"weren't\", 'won', \"won't\", 'wouldn', \"wouldn't\"}\n",
    "\n",
    "uni_names = {'anglia', 'ruskin', 'birmingham', 'brunel', 'buckinghamshire', 'cardiff', 'metropolitan', 'napier', 'heriot', 'watt', 'kingston', 'liverpool', 'metropolitan', 'south', 'middlesex', 'oxford', 'brookes', 'teesside', 'westminster', 'wolverhampton', 'suffolk', 'ltd', 'london', 'aberdeen', 'abertay', 'dundee', 'bedfordshire', 'cumbria', 'derby', 'east london', 'edinburgh', 'glasgow', 'northampton', 'salford', 'south', 'wales', 'stirling', 'strathclyde', 'sunderland', 'west', 'scotland', 'ulster', 'worcester'}\n",
    "\n",
    "#remove negations as stopwords as they provide valauble meaning and should not be removed\n",
    "stop =  stop.difference(stop_to_remove)\n",
    "\n",
    "#Get Data\n",
    "data = hf.merge_datasets(r'E:\\GitHubProjects\\dissertation\\scraper\\approved_datasets')\n",
    "# data = hf.balance_dataset(data)\n",
    "\n",
    "#Tokenizing the text using NLTK\n",
    "# TODO ******. doesnt segment full stop \n",
    "# https://stackoverflow.com/questions/42056872/how-to-remove-in-strings-with-regexptokenizer\n",
    "# tokenizer = RegexpTokenizer(r'([\\w\\']+|[]!\"$%&\\'()*+,./:;=#@?[\\\\^_`{|}~-])')\n",
    "tokenizer = RegexpTokenizer(r'([\\w\\']+|\\[+|]+|\\!+|\"+|\\$+|%+|&+|\\'+|\\(+|\\)+|\\*+|\\++|,+|\\.+|:+|;+|=+|#+|@+|\\?+|\\[+|\\^+|_+|`+|{+|\\|+|\\}+|~+|-+|]+)') \n",
    "\n",
    "data['tokenized_text'] = data['review'].apply(lambda x: tokenizer.tokenize(x)) \n",
    "\n",
    "#lower case\n",
    "data['tokenized_text'] = data['tokenized_text'].apply(lambda x: hf.lower_token(x))\n",
    "\n",
    "#remove stop words\n",
    "data['tokenized_text'] = data['tokenized_text'].apply(lambda x: [item for item in x if item not in stop])\n",
    "\n",
    "#remove university names as they impact accuracy, these words should be neutral sentiment \n",
    "data['tokenized_text'] = data['tokenized_text'].apply(lambda x: [item for item in x if item not in uni_names])\n",
    "\n",
    "#reduce puncuations, remove duplicates next to each other and leave only one e.g. !!! to !\n",
    "data['tokenized_text'] = data['tokenized_text'].apply(lambda x: hf.remove_punctuations(x))\n",
    "\n",
    "X, y = data['tokenized_text'], list(data['score'])"
   ]
  },
  {
   "cell_type": "code",
   "execution_count": 7,
   "metadata": {},
   "outputs": [],
   "source": [
    "from tensorflow.keras.preprocessing.text import Tokenizer\n",
    "from tensorflow.keras.preprocessing.sequence import pad_sequences\n",
    "from tensorflow.keras.utils import Sequence\n",
    "\n",
    "#vocab size\n",
    "NUM_WORDS = 10000\n",
    "tokenizer = Tokenizer(num_words=NUM_WORDS)\n",
    "tokenizer.fit_on_texts(X)\n",
    "sequences = tokenizer.texts_to_sequences(X)"
   ]
  },
  {
   "cell_type": "code",
   "execution_count": 8,
   "metadata": {},
   "outputs": [],
   "source": [
    "#finding the maximum number of words the longests sentence contains\n",
    "# longest = 0\n",
    "# for x in X_train:\n",
    "#     if len(x.split()) > longest:\n",
    "#         longest = len(x.split())\n",
    "\n",
    "#VERSION FOR TOKENIZED ROWS\n",
    "longest = 0\n",
    "for x in X:\n",
    "    if len(x) > longest:\n",
    "        longest = len(x)\n",
    "\n",
    "#padding sequences to have the same length\n",
    "x_train_seq = pad_sequences(sequences, maxlen=longest+5)"
   ]
  },
  {
   "cell_type": "code",
   "execution_count": 9,
   "metadata": {},
   "outputs": [],
   "source": [
    "# Split the data\n",
    "X_train, X_test, y_train, y_test = train_test_split(x_train_seq, y, test_size=0.2, shuffle=True, stratify=y, random_state=8)"
   ]
  },
  {
   "cell_type": "code",
   "execution_count": 10,
   "metadata": {},
   "outputs": [],
   "source": [
    "#Word Embeddings\n",
    "#length of vectors in embedding word2vec\n",
    "embedding_vecor_length = 300\n",
    "embedding_matrix = np.zeros((NUM_WORDS, embedding_vecor_length))\n",
    "\n",
    "for word, i in tokenizer.word_index.items():\n",
    "    if i >= NUM_WORDS:\n",
    "        continue\n",
    "    try:\n",
    "        embedding_vector = embedding_model[word]\n",
    "        if embedding_vector is not None:\n",
    "            embedding_matrix[i] = embedding_vector\n",
    "    except:\n",
    "        pass\n",
    "        # embedding_matrix[i]=np.random.normal(0,np.sqrt(0.25), embedding_vecor_length)"
   ]
  },
  {
   "cell_type": "code",
   "execution_count": 16,
   "metadata": {},
   "outputs": [],
   "source": [
    "from tensorflow.keras import layers\n",
    "from tensorflow.keras.models import Sequential, Model\n",
    "from tensorflow.keras.layers import Dense, Dropout, Flatten, MaxPooling1D, Embedding, GlobalMaxPooling1D, Conv1D, GlobalAveragePooling1D, MaxPool1D, concatenate, Activation, Input"
   ]
  },
  {
   "cell_type": "code",
   "execution_count": 12,
   "metadata": {},
   "outputs": [],
   "source": [
    "#Converting from list to numPy arrays (fixed errors after tensorflow... imports)\n",
    "y_train = np.array(y_train)\n",
    "y_test = np.array(y_test)"
   ]
  },
  {
   "cell_type": "code",
   "execution_count": 14,
   "metadata": {},
   "outputs": [
    {
     "output_type": "stream",
     "name": "stdout",
     "text": [
      "Train on 2277 samples, validate on 570 samples\n",
      "Epoch 1/5\n",
      "2277/2277 - 2s - loss: 0.5491 - accuracy: 0.7585 - val_loss: 0.3957 - val_accuracy: 0.7982\n",
      "Epoch 2/5\n",
      "2277/2277 - 1s - loss: 0.3300 - accuracy: 0.8608 - val_loss: 0.2682 - val_accuracy: 0.8825\n",
      "Epoch 3/5\n",
      "2277/2277 - 1s - loss: 0.2837 - accuracy: 0.8863 - val_loss: 0.2474 - val_accuracy: 0.8982\n",
      "Epoch 4/5\n",
      "2277/2277 - 1s - loss: 0.2629 - accuracy: 0.8972 - val_loss: 0.2347 - val_accuracy: 0.8982\n",
      "Epoch 5/5\n",
      "2277/2277 - 1s - loss: 0.2397 - accuracy: 0.9038 - val_loss: 0.2216 - val_accuracy: 0.9070\n"
     ]
    },
    {
     "output_type": "execute_result",
     "data": {
      "text/plain": [
       "<tensorflow.python.keras.callbacks.History at 0x18b3ad37948>"
      ]
     },
     "metadata": {},
     "execution_count": 14
    }
   ],
   "source": [
    "    model_cnn = Sequential()\n",
    "    e = Embedding(NUM_WORDS, 300, weights=[embedding_matrix], input_length=longest+5, trainable=False)\n",
    "    model_cnn.add(e)\n",
    "    model_cnn.add(Conv1D(filters=100, kernel_size=3, padding='valid', activation='relu', strides=1))\n",
    "    # model_cnn.add(GlobalMaxPooling1D())\n",
    "\n",
    "    model_cnn.add(Conv1D(filters=50, kernel_size=2, padding='valid', activation='relu', strides=1))\n",
    "    model_cnn.add(GlobalAveragePooling1D())\n",
    "    # model_cnn.add(MaxPooling1D(pool_size=2, strides=1))\n",
    "\n",
    "\n",
    "    model_cnn.add(Dense(256, activation='relu'))\n",
    "    model_cnn.add(Dense(1, activation='sigmoid'))\n",
    "    model_cnn.compile(loss='binary_crossentropy', optimizer='adam', metrics=['accuracy'])\n",
    "    model_cnn.fit(X_train, y_train, validation_data=(X_test, y_test), epochs=5, batch_size=32, verbose=2)\n",
    "    # model_cnn.summary()"
   ]
  },
  {
   "cell_type": "code",
   "execution_count": 17,
   "metadata": {},
   "outputs": [
    {
     "output_type": "stream",
     "name": "stdout",
     "text": [
      "Train on 2277 samples, validate on 570 samples\n",
      "Epoch 1/5\n",
      "2277/2277 - 3s - loss: 0.4245 - accuracy: 0.8002 - val_loss: 0.2629 - val_accuracy: 0.9105\n",
      "Epoch 2/5\n",
      "2277/2277 - 1s - loss: 0.1955 - accuracy: 0.9262 - val_loss: 0.2542 - val_accuracy: 0.9105\n",
      "Epoch 3/5\n",
      "2277/2277 - 1s - loss: 0.1049 - accuracy: 0.9706 - val_loss: 0.2355 - val_accuracy: 0.9175\n",
      "Epoch 4/5\n",
      "2277/2277 - 1s - loss: 0.0424 - accuracy: 0.9917 - val_loss: 0.2669 - val_accuracy: 0.9158\n",
      "Epoch 5/5\n",
      "2277/2277 - 1s - loss: 0.0162 - accuracy: 0.9987 - val_loss: 0.2848 - val_accuracy: 0.9246\n"
     ]
    },
    {
     "output_type": "execute_result",
     "data": {
      "text/plain": [
       "<tensorflow.python.keras.callbacks.History at 0x18c4478e0c8>"
      ]
     },
     "metadata": {},
     "execution_count": 17
    }
   ],
   "source": [
    "tweet_input = Input(shape=(longest+5,), dtype='int32')\n",
    "\n",
    "tweet_encoder = Embedding(NUM_WORDS, 300, weights=[embedding_matrix], input_length=longest+5, trainable=False)(tweet_input)\n",
    "bigram_branch = Conv1D(filters=100, kernel_size=2, padding='valid', activation='relu', strides=1)(tweet_encoder)\n",
    "bigram_branch = GlobalMaxPooling1D()(bigram_branch)\n",
    "trigram_branch = Conv1D(filters=100, kernel_size=3, padding='valid', activation='relu', strides=1)(tweet_encoder)\n",
    "trigram_branch = GlobalMaxPooling1D()(trigram_branch)\n",
    "fourgram_branch = Conv1D(filters=100, kernel_size=4, padding='valid', activation='relu', strides=1)(tweet_encoder)\n",
    "fourgram_branch = GlobalMaxPooling1D()(fourgram_branch)\n",
    "merged = concatenate([bigram_branch, trigram_branch, fourgram_branch], axis=1)\n",
    "\n",
    "merged = Dense(256, activation='relu')(merged)\n",
    "merged = Dropout(0.2)(merged)\n",
    "merged = Dense(1)(merged)\n",
    "output = Activation('sigmoid')(merged)\n",
    "model = Model(inputs=[tweet_input], outputs=[output])\n",
    "model.compile(loss='binary_crossentropy',\n",
    "                  optimizer='adam',\n",
    "                  metrics=['accuracy'])\n",
    "model.fit(X_train, y_train, validation_data=(X_test, y_test), epochs=5, batch_size=32, verbose=2)\n",
    "# model.summary()"
   ]
  },
  {
   "cell_type": "code",
   "execution_count": 15,
   "metadata": {},
   "outputs": [
    {
     "output_type": "stream",
     "name": "stderr",
     "text": [
      "Traceback (most recent call last):\n",
      "  File \"E:\\Program Files (x86)\\Anaconda3\\envs\\dissertation\\lib\\site-packages\\kerastuner\\engine\\hypermodel.py\", line 105, in build\n",
      "    model = self.hypermodel.build(hp)\n",
      "  File \"<ipython-input-15-9b20c66f09e3>\", line 20, in build_model\n",
      "    model_cnn.add(Conv1D(filters=hp.Int(f'conv1_units', min_value=32, max_value=256, step=32), kernel_size=hp.Int(f'kernel1_size_units', min_value=1, max_value=5, step=1), padding='valid', activation=hp.Choice(f'conv1_activation', values=['relu', 'tanh', 'selu',  'elu'], default='relu'), strides=hp.Int(f'strides1_units', min_value=1, max_value=4, step=1)))\n",
      "  File \"E:\\Program Files (x86)\\Anaconda3\\envs\\dissertation\\lib\\site-packages\\tensorflow_core\\python\\training\\tracking\\base.py\", line 457, in _method_wrapper\n",
      "    result = method(self, *args, **kwargs)\n",
      "  File \"E:\\Program Files (x86)\\Anaconda3\\envs\\dissertation\\lib\\site-packages\\tensorflow_core\\python\\keras\\engine\\sequential.py\", line 203, in add\n",
      "    output_tensor = layer(self.outputs[0])\n",
      "  File \"E:\\Program Files (x86)\\Anaconda3\\envs\\dissertation\\lib\\site-packages\\tensorflow_core\\python\\keras\\engine\\base_layer.py\", line 737, in __call__\n",
      "    self.name)\n",
      "  File \"E:\\Program Files (x86)\\Anaconda3\\envs\\dissertation\\lib\\site-packages\\tensorflow_core\\python\\keras\\engine\\input_spec.py\", line 177, in assert_input_compatibility\n",
      "    str(x.shape.as_list()))\n",
      "ValueError: Input 0 of layer conv1d_1 is incompatible with the layer: expected ndim=3, found ndim=2. Full shape received: [None, 32]\n"
     ]
    },
    {
     "output_type": "display_data",
     "data": {
      "text/plain": "<IPython.core.display.HTML object>",
      "text/html": "<span style=\"color:yellow\">[Warning] Invalid model 0/5</span>"
     },
     "metadata": {}
    },
    {
     "output_type": "stream",
     "name": "stderr",
     "text": [
      "Traceback (most recent call last):\n",
      "  File \"E:\\Program Files (x86)\\Anaconda3\\envs\\dissertation\\lib\\site-packages\\kerastuner\\engine\\hypermodel.py\", line 105, in build\n",
      "    model = self.hypermodel.build(hp)\n",
      "  File \"<ipython-input-15-9b20c66f09e3>\", line 20, in build_model\n",
      "    model_cnn.add(Conv1D(filters=hp.Int(f'conv1_units', min_value=32, max_value=256, step=32), kernel_size=hp.Int(f'kernel1_size_units', min_value=1, max_value=5, step=1), padding='valid', activation=hp.Choice(f'conv1_activation', values=['relu', 'tanh', 'selu',  'elu'], default='relu'), strides=hp.Int(f'strides1_units', min_value=1, max_value=4, step=1)))\n",
      "  File \"E:\\Program Files (x86)\\Anaconda3\\envs\\dissertation\\lib\\site-packages\\tensorflow_core\\python\\training\\tracking\\base.py\", line 457, in _method_wrapper\n",
      "    result = method(self, *args, **kwargs)\n",
      "  File \"E:\\Program Files (x86)\\Anaconda3\\envs\\dissertation\\lib\\site-packages\\tensorflow_core\\python\\keras\\engine\\sequential.py\", line 203, in add\n",
      "    output_tensor = layer(self.outputs[0])\n",
      "  File \"E:\\Program Files (x86)\\Anaconda3\\envs\\dissertation\\lib\\site-packages\\tensorflow_core\\python\\keras\\engine\\base_layer.py\", line 737, in __call__\n",
      "    self.name)\n",
      "  File \"E:\\Program Files (x86)\\Anaconda3\\envs\\dissertation\\lib\\site-packages\\tensorflow_core\\python\\keras\\engine\\input_spec.py\", line 177, in assert_input_compatibility\n",
      "    str(x.shape.as_list()))\n",
      "ValueError: Input 0 of layer conv1d_1 is incompatible with the layer: expected ndim=3, found ndim=2. Full shape received: [None, 32]\n"
     ]
    },
    {
     "output_type": "display_data",
     "data": {
      "text/plain": "<IPython.core.display.HTML object>",
      "text/html": "<span style=\"color:yellow\">[Warning] Invalid model 1/5</span>"
     },
     "metadata": {}
    },
    {
     "output_type": "stream",
     "name": "stderr",
     "text": [
      "Traceback (most recent call last):\n",
      "  File \"E:\\Program Files (x86)\\Anaconda3\\envs\\dissertation\\lib\\site-packages\\kerastuner\\engine\\hypermodel.py\", line 105, in build\n",
      "    model = self.hypermodel.build(hp)\n",
      "  File \"<ipython-input-15-9b20c66f09e3>\", line 20, in build_model\n",
      "    model_cnn.add(Conv1D(filters=hp.Int(f'conv1_units', min_value=32, max_value=256, step=32), kernel_size=hp.Int(f'kernel1_size_units', min_value=1, max_value=5, step=1), padding='valid', activation=hp.Choice(f'conv1_activation', values=['relu', 'tanh', 'selu',  'elu'], default='relu'), strides=hp.Int(f'strides1_units', min_value=1, max_value=4, step=1)))\n",
      "  File \"E:\\Program Files (x86)\\Anaconda3\\envs\\dissertation\\lib\\site-packages\\tensorflow_core\\python\\training\\tracking\\base.py\", line 457, in _method_wrapper\n",
      "    result = method(self, *args, **kwargs)\n",
      "  File \"E:\\Program Files (x86)\\Anaconda3\\envs\\dissertation\\lib\\site-packages\\tensorflow_core\\python\\keras\\engine\\sequential.py\", line 203, in add\n",
      "    output_tensor = layer(self.outputs[0])\n",
      "  File \"E:\\Program Files (x86)\\Anaconda3\\envs\\dissertation\\lib\\site-packages\\tensorflow_core\\python\\keras\\engine\\base_layer.py\", line 737, in __call__\n",
      "    self.name)\n",
      "  File \"E:\\Program Files (x86)\\Anaconda3\\envs\\dissertation\\lib\\site-packages\\tensorflow_core\\python\\keras\\engine\\input_spec.py\", line 177, in assert_input_compatibility\n",
      "    str(x.shape.as_list()))\n",
      "ValueError: Input 0 of layer conv1d_1 is incompatible with the layer: expected ndim=3, found ndim=2. Full shape received: [None, 32]\n"
     ]
    },
    {
     "output_type": "display_data",
     "data": {
      "text/plain": "<IPython.core.display.HTML object>",
      "text/html": "<span style=\"color:yellow\">[Warning] Invalid model 2/5</span>"
     },
     "metadata": {}
    },
    {
     "output_type": "stream",
     "name": "stderr",
     "text": [
      "Traceback (most recent call last):\n",
      "  File \"E:\\Program Files (x86)\\Anaconda3\\envs\\dissertation\\lib\\site-packages\\kerastuner\\engine\\hypermodel.py\", line 105, in build\n",
      "    model = self.hypermodel.build(hp)\n",
      "  File \"<ipython-input-15-9b20c66f09e3>\", line 20, in build_model\n",
      "    model_cnn.add(Conv1D(filters=hp.Int(f'conv1_units', min_value=32, max_value=256, step=32), kernel_size=hp.Int(f'kernel1_size_units', min_value=1, max_value=5, step=1), padding='valid', activation=hp.Choice(f'conv1_activation', values=['relu', 'tanh', 'selu',  'elu'], default='relu'), strides=hp.Int(f'strides1_units', min_value=1, max_value=4, step=1)))\n",
      "  File \"E:\\Program Files (x86)\\Anaconda3\\envs\\dissertation\\lib\\site-packages\\tensorflow_core\\python\\training\\tracking\\base.py\", line 457, in _method_wrapper\n",
      "    result = method(self, *args, **kwargs)\n",
      "  File \"E:\\Program Files (x86)\\Anaconda3\\envs\\dissertation\\lib\\site-packages\\tensorflow_core\\python\\keras\\engine\\sequential.py\", line 203, in add\n",
      "    output_tensor = layer(self.outputs[0])\n",
      "  File \"E:\\Program Files (x86)\\Anaconda3\\envs\\dissertation\\lib\\site-packages\\tensorflow_core\\python\\keras\\engine\\base_layer.py\", line 737, in __call__\n",
      "    self.name)\n",
      "  File \"E:\\Program Files (x86)\\Anaconda3\\envs\\dissertation\\lib\\site-packages\\tensorflow_core\\python\\keras\\engine\\input_spec.py\", line 177, in assert_input_compatibility\n",
      "    str(x.shape.as_list()))\n",
      "ValueError: Input 0 of layer conv1d_1 is incompatible with the layer: expected ndim=3, found ndim=2. Full shape received: [None, 32]\n"
     ]
    },
    {
     "output_type": "display_data",
     "data": {
      "text/plain": "<IPython.core.display.HTML object>",
      "text/html": "<span style=\"color:yellow\">[Warning] Invalid model 3/5</span>"
     },
     "metadata": {}
    },
    {
     "output_type": "stream",
     "name": "stderr",
     "text": [
      "Traceback (most recent call last):\n",
      "  File \"E:\\Program Files (x86)\\Anaconda3\\envs\\dissertation\\lib\\site-packages\\kerastuner\\engine\\hypermodel.py\", line 105, in build\n",
      "    model = self.hypermodel.build(hp)\n",
      "  File \"<ipython-input-15-9b20c66f09e3>\", line 20, in build_model\n",
      "    model_cnn.add(Conv1D(filters=hp.Int(f'conv1_units', min_value=32, max_value=256, step=32), kernel_size=hp.Int(f'kernel1_size_units', min_value=1, max_value=5, step=1), padding='valid', activation=hp.Choice(f'conv1_activation', values=['relu', 'tanh', 'selu',  'elu'], default='relu'), strides=hp.Int(f'strides1_units', min_value=1, max_value=4, step=1)))\n",
      "  File \"E:\\Program Files (x86)\\Anaconda3\\envs\\dissertation\\lib\\site-packages\\tensorflow_core\\python\\training\\tracking\\base.py\", line 457, in _method_wrapper\n",
      "    result = method(self, *args, **kwargs)\n",
      "  File \"E:\\Program Files (x86)\\Anaconda3\\envs\\dissertation\\lib\\site-packages\\tensorflow_core\\python\\keras\\engine\\sequential.py\", line 203, in add\n",
      "    output_tensor = layer(self.outputs[0])\n",
      "  File \"E:\\Program Files (x86)\\Anaconda3\\envs\\dissertation\\lib\\site-packages\\tensorflow_core\\python\\keras\\engine\\base_layer.py\", line 737, in __call__\n",
      "    self.name)\n",
      "  File \"E:\\Program Files (x86)\\Anaconda3\\envs\\dissertation\\lib\\site-packages\\tensorflow_core\\python\\keras\\engine\\input_spec.py\", line 177, in assert_input_compatibility\n",
      "    str(x.shape.as_list()))\n",
      "ValueError: Input 0 of layer conv1d_1 is incompatible with the layer: expected ndim=3, found ndim=2. Full shape received: [None, 32]\n"
     ]
    },
    {
     "output_type": "display_data",
     "data": {
      "text/plain": "<IPython.core.display.HTML object>",
      "text/html": "<span style=\"color:yellow\">[Warning] Invalid model 4/5</span>"
     },
     "metadata": {}
    },
    {
     "output_type": "stream",
     "name": "stderr",
     "text": [
      "Traceback (most recent call last):\n",
      "  File \"E:\\Program Files (x86)\\Anaconda3\\envs\\dissertation\\lib\\site-packages\\kerastuner\\engine\\hypermodel.py\", line 105, in build\n",
      "    model = self.hypermodel.build(hp)\n",
      "  File \"<ipython-input-15-9b20c66f09e3>\", line 20, in build_model\n",
      "    model_cnn.add(Conv1D(filters=hp.Int(f'conv1_units', min_value=32, max_value=256, step=32), kernel_size=hp.Int(f'kernel1_size_units', min_value=1, max_value=5, step=1), padding='valid', activation=hp.Choice(f'conv1_activation', values=['relu', 'tanh', 'selu',  'elu'], default='relu'), strides=hp.Int(f'strides1_units', min_value=1, max_value=4, step=1)))\n",
      "  File \"E:\\Program Files (x86)\\Anaconda3\\envs\\dissertation\\lib\\site-packages\\tensorflow_core\\python\\training\\tracking\\base.py\", line 457, in _method_wrapper\n",
      "    result = method(self, *args, **kwargs)\n",
      "  File \"E:\\Program Files (x86)\\Anaconda3\\envs\\dissertation\\lib\\site-packages\\tensorflow_core\\python\\keras\\engine\\sequential.py\", line 203, in add\n",
      "    output_tensor = layer(self.outputs[0])\n",
      "  File \"E:\\Program Files (x86)\\Anaconda3\\envs\\dissertation\\lib\\site-packages\\tensorflow_core\\python\\keras\\engine\\base_layer.py\", line 737, in __call__\n",
      "    self.name)\n",
      "  File \"E:\\Program Files (x86)\\Anaconda3\\envs\\dissertation\\lib\\site-packages\\tensorflow_core\\python\\keras\\engine\\input_spec.py\", line 177, in assert_input_compatibility\n",
      "    str(x.shape.as_list()))\n",
      "ValueError: Input 0 of layer conv1d_1 is incompatible with the layer: expected ndim=3, found ndim=2. Full shape received: [None, 32]\n"
     ]
    },
    {
     "output_type": "display_data",
     "data": {
      "text/plain": "<IPython.core.display.HTML object>",
      "text/html": "<span style=\"color:yellow\">[Warning] Invalid model 5/5</span>"
     },
     "metadata": {}
    },
    {
     "output_type": "error",
     "ename": "RuntimeError",
     "evalue": "Too many failed attempts to build model.",
     "traceback": [
      "\u001b[1;31m---------------------------------------------------------------------------\u001b[0m",
      "\u001b[1;31mValueError\u001b[0m                                Traceback (most recent call last)",
      "\u001b[1;32mE:\\Program Files (x86)\\Anaconda3\\envs\\dissertation\\lib\\site-packages\\kerastuner\\engine\\hypermodel.py\u001b[0m in \u001b[0;36mbuild\u001b[1;34m(self, hp)\u001b[0m\n\u001b[0;32m    104\u001b[0m                 \u001b[1;32mwith\u001b[0m \u001b[0mmaybe_distribute\u001b[0m\u001b[1;33m(\u001b[0m\u001b[0mself\u001b[0m\u001b[1;33m.\u001b[0m\u001b[0mdistribution_strategy\u001b[0m\u001b[1;33m)\u001b[0m\u001b[1;33m:\u001b[0m\u001b[1;33m\u001b[0m\u001b[1;33m\u001b[0m\u001b[0m\n\u001b[1;32m--> 105\u001b[1;33m                     \u001b[0mmodel\u001b[0m \u001b[1;33m=\u001b[0m \u001b[0mself\u001b[0m\u001b[1;33m.\u001b[0m\u001b[0mhypermodel\u001b[0m\u001b[1;33m.\u001b[0m\u001b[0mbuild\u001b[0m\u001b[1;33m(\u001b[0m\u001b[0mhp\u001b[0m\u001b[1;33m)\u001b[0m\u001b[1;33m\u001b[0m\u001b[1;33m\u001b[0m\u001b[0m\n\u001b[0m\u001b[0;32m    106\u001b[0m             \u001b[1;32mexcept\u001b[0m\u001b[1;33m:\u001b[0m\u001b[1;33m\u001b[0m\u001b[1;33m\u001b[0m\u001b[0m\n",
      "\u001b[1;32m<ipython-input-15-9b20c66f09e3>\u001b[0m in \u001b[0;36mbuild_model\u001b[1;34m(hp)\u001b[0m\n\u001b[0;32m     19\u001b[0m \u001b[1;33m\u001b[0m\u001b[0m\n\u001b[1;32m---> 20\u001b[1;33m     \u001b[0mmodel_cnn\u001b[0m\u001b[1;33m.\u001b[0m\u001b[0madd\u001b[0m\u001b[1;33m(\u001b[0m\u001b[0mConv1D\u001b[0m\u001b[1;33m(\u001b[0m\u001b[0mfilters\u001b[0m\u001b[1;33m=\u001b[0m\u001b[0mhp\u001b[0m\u001b[1;33m.\u001b[0m\u001b[0mInt\u001b[0m\u001b[1;33m(\u001b[0m\u001b[1;34mf'conv1_units'\u001b[0m\u001b[1;33m,\u001b[0m \u001b[0mmin_value\u001b[0m\u001b[1;33m=\u001b[0m\u001b[1;36m32\u001b[0m\u001b[1;33m,\u001b[0m \u001b[0mmax_value\u001b[0m\u001b[1;33m=\u001b[0m\u001b[1;36m256\u001b[0m\u001b[1;33m,\u001b[0m \u001b[0mstep\u001b[0m\u001b[1;33m=\u001b[0m\u001b[1;36m32\u001b[0m\u001b[1;33m)\u001b[0m\u001b[1;33m,\u001b[0m \u001b[0mkernel_size\u001b[0m\u001b[1;33m=\u001b[0m\u001b[0mhp\u001b[0m\u001b[1;33m.\u001b[0m\u001b[0mInt\u001b[0m\u001b[1;33m(\u001b[0m\u001b[1;34mf'kernel1_size_units'\u001b[0m\u001b[1;33m,\u001b[0m \u001b[0mmin_value\u001b[0m\u001b[1;33m=\u001b[0m\u001b[1;36m1\u001b[0m\u001b[1;33m,\u001b[0m \u001b[0mmax_value\u001b[0m\u001b[1;33m=\u001b[0m\u001b[1;36m5\u001b[0m\u001b[1;33m,\u001b[0m \u001b[0mstep\u001b[0m\u001b[1;33m=\u001b[0m\u001b[1;36m1\u001b[0m\u001b[1;33m)\u001b[0m\u001b[1;33m,\u001b[0m \u001b[0mpadding\u001b[0m\u001b[1;33m=\u001b[0m\u001b[1;34m'valid'\u001b[0m\u001b[1;33m,\u001b[0m \u001b[0mactivation\u001b[0m\u001b[1;33m=\u001b[0m\u001b[0mhp\u001b[0m\u001b[1;33m.\u001b[0m\u001b[0mChoice\u001b[0m\u001b[1;33m(\u001b[0m\u001b[1;34mf'conv1_activation'\u001b[0m\u001b[1;33m,\u001b[0m \u001b[0mvalues\u001b[0m\u001b[1;33m=\u001b[0m\u001b[1;33m[\u001b[0m\u001b[1;34m'relu'\u001b[0m\u001b[1;33m,\u001b[0m \u001b[1;34m'tanh'\u001b[0m\u001b[1;33m,\u001b[0m \u001b[1;34m'selu'\u001b[0m\u001b[1;33m,\u001b[0m  \u001b[1;34m'elu'\u001b[0m\u001b[1;33m]\u001b[0m\u001b[1;33m,\u001b[0m \u001b[0mdefault\u001b[0m\u001b[1;33m=\u001b[0m\u001b[1;34m'relu'\u001b[0m\u001b[1;33m)\u001b[0m\u001b[1;33m,\u001b[0m \u001b[0mstrides\u001b[0m\u001b[1;33m=\u001b[0m\u001b[0mhp\u001b[0m\u001b[1;33m.\u001b[0m\u001b[0mInt\u001b[0m\u001b[1;33m(\u001b[0m\u001b[1;34mf'strides1_units'\u001b[0m\u001b[1;33m,\u001b[0m \u001b[0mmin_value\u001b[0m\u001b[1;33m=\u001b[0m\u001b[1;36m1\u001b[0m\u001b[1;33m,\u001b[0m \u001b[0mmax_value\u001b[0m\u001b[1;33m=\u001b[0m\u001b[1;36m4\u001b[0m\u001b[1;33m,\u001b[0m \u001b[0mstep\u001b[0m\u001b[1;33m=\u001b[0m\u001b[1;36m1\u001b[0m\u001b[1;33m)\u001b[0m\u001b[1;33m)\u001b[0m\u001b[1;33m)\u001b[0m\u001b[1;33m\u001b[0m\u001b[1;33m\u001b[0m\u001b[0m\n\u001b[0m\u001b[0;32m     21\u001b[0m \u001b[1;33m\u001b[0m\u001b[0m\n",
      "\u001b[1;32mE:\\Program Files (x86)\\Anaconda3\\envs\\dissertation\\lib\\site-packages\\tensorflow_core\\python\\training\\tracking\\base.py\u001b[0m in \u001b[0;36m_method_wrapper\u001b[1;34m(self, *args, **kwargs)\u001b[0m\n\u001b[0;32m    456\u001b[0m     \u001b[1;32mtry\u001b[0m\u001b[1;33m:\u001b[0m\u001b[1;33m\u001b[0m\u001b[1;33m\u001b[0m\u001b[0m\n\u001b[1;32m--> 457\u001b[1;33m       \u001b[0mresult\u001b[0m \u001b[1;33m=\u001b[0m \u001b[0mmethod\u001b[0m\u001b[1;33m(\u001b[0m\u001b[0mself\u001b[0m\u001b[1;33m,\u001b[0m \u001b[1;33m*\u001b[0m\u001b[0margs\u001b[0m\u001b[1;33m,\u001b[0m \u001b[1;33m**\u001b[0m\u001b[0mkwargs\u001b[0m\u001b[1;33m)\u001b[0m\u001b[1;33m\u001b[0m\u001b[1;33m\u001b[0m\u001b[0m\n\u001b[0m\u001b[0;32m    458\u001b[0m     \u001b[1;32mfinally\u001b[0m\u001b[1;33m:\u001b[0m\u001b[1;33m\u001b[0m\u001b[1;33m\u001b[0m\u001b[0m\n",
      "\u001b[1;32mE:\\Program Files (x86)\\Anaconda3\\envs\\dissertation\\lib\\site-packages\\tensorflow_core\\python\\keras\\engine\\sequential.py\u001b[0m in \u001b[0;36madd\u001b[1;34m(self, layer)\u001b[0m\n\u001b[0;32m    202\u001b[0m       \u001b[1;31m# refresh its output.\u001b[0m\u001b[1;33m\u001b[0m\u001b[1;33m\u001b[0m\u001b[1;33m\u001b[0m\u001b[0m\n\u001b[1;32m--> 203\u001b[1;33m       \u001b[0moutput_tensor\u001b[0m \u001b[1;33m=\u001b[0m \u001b[0mlayer\u001b[0m\u001b[1;33m(\u001b[0m\u001b[0mself\u001b[0m\u001b[1;33m.\u001b[0m\u001b[0moutputs\u001b[0m\u001b[1;33m[\u001b[0m\u001b[1;36m0\u001b[0m\u001b[1;33m]\u001b[0m\u001b[1;33m)\u001b[0m\u001b[1;33m\u001b[0m\u001b[1;33m\u001b[0m\u001b[0m\n\u001b[0m\u001b[0;32m    204\u001b[0m       \u001b[1;32mif\u001b[0m \u001b[0mlen\u001b[0m\u001b[1;33m(\u001b[0m\u001b[0mnest\u001b[0m\u001b[1;33m.\u001b[0m\u001b[0mflatten\u001b[0m\u001b[1;33m(\u001b[0m\u001b[0moutput_tensor\u001b[0m\u001b[1;33m)\u001b[0m\u001b[1;33m)\u001b[0m \u001b[1;33m!=\u001b[0m \u001b[1;36m1\u001b[0m\u001b[1;33m:\u001b[0m\u001b[1;33m\u001b[0m\u001b[1;33m\u001b[0m\u001b[0m\n",
      "\u001b[1;32mE:\\Program Files (x86)\\Anaconda3\\envs\\dissertation\\lib\\site-packages\\tensorflow_core\\python\\keras\\engine\\base_layer.py\u001b[0m in \u001b[0;36m__call__\u001b[1;34m(self, inputs, *args, **kwargs)\u001b[0m\n\u001b[0;32m    736\u001b[0m         input_spec.assert_input_compatibility(self.input_spec, inputs,\n\u001b[1;32m--> 737\u001b[1;33m                                               self.name)\n\u001b[0m\u001b[0;32m    738\u001b[0m         if (any(isinstance(x, ragged_tensor.RaggedTensor) for x in input_list)\n",
      "\u001b[1;32mE:\\Program Files (x86)\\Anaconda3\\envs\\dissertation\\lib\\site-packages\\tensorflow_core\\python\\keras\\engine\\input_spec.py\u001b[0m in \u001b[0;36massert_input_compatibility\u001b[1;34m(input_spec, inputs, layer_name)\u001b[0m\n\u001b[0;32m    176\u001b[0m                          \u001b[0mstr\u001b[0m\u001b[1;33m(\u001b[0m\u001b[0mndim\u001b[0m\u001b[1;33m)\u001b[0m \u001b[1;33m+\u001b[0m \u001b[1;34m'. Full shape received: '\u001b[0m \u001b[1;33m+\u001b[0m\u001b[1;33m\u001b[0m\u001b[1;33m\u001b[0m\u001b[0m\n\u001b[1;32m--> 177\u001b[1;33m                          str(x.shape.as_list()))\n\u001b[0m\u001b[0;32m    178\u001b[0m     \u001b[1;32mif\u001b[0m \u001b[0mspec\u001b[0m\u001b[1;33m.\u001b[0m\u001b[0mmax_ndim\u001b[0m \u001b[1;32mis\u001b[0m \u001b[1;32mnot\u001b[0m \u001b[1;32mNone\u001b[0m\u001b[1;33m:\u001b[0m\u001b[1;33m\u001b[0m\u001b[1;33m\u001b[0m\u001b[0m\n",
      "\u001b[1;31mValueError\u001b[0m: Input 0 of layer conv1d_1 is incompatible with the layer: expected ndim=3, found ndim=2. Full shape received: [None, 32]",
      "\nDuring handling of the above exception, another exception occurred:\n",
      "\u001b[1;31mRuntimeError\u001b[0m                              Traceback (most recent call last)",
      "\u001b[1;32m<ipython-input-15-9b20c66f09e3>\u001b[0m in \u001b[0;36m<module>\u001b[1;34m\u001b[0m\n\u001b[0;32m     35\u001b[0m     \u001b[0mexecutions_per_trial\u001b[0m \u001b[1;33m=\u001b[0m \u001b[1;36m1\u001b[0m\u001b[1;33m,\u001b[0m\u001b[1;33m\u001b[0m\u001b[1;33m\u001b[0m\u001b[0m\n\u001b[0;32m     36\u001b[0m     \u001b[0mdirectory\u001b[0m \u001b[1;33m=\u001b[0m \u001b[1;34m'random_search'\u001b[0m\u001b[1;33m,\u001b[0m\u001b[1;33m\u001b[0m\u001b[1;33m\u001b[0m\u001b[0m\n\u001b[1;32m---> 37\u001b[1;33m     \u001b[0moverwrite\u001b[0m \u001b[1;33m=\u001b[0m \u001b[1;32mTrue\u001b[0m\u001b[1;33m\u001b[0m\u001b[1;33m\u001b[0m\u001b[0m\n\u001b[0m\u001b[0;32m     38\u001b[0m )\n\u001b[0;32m     39\u001b[0m \u001b[1;33m\u001b[0m\u001b[0m\n",
      "\u001b[1;32mE:\\Program Files (x86)\\Anaconda3\\envs\\dissertation\\lib\\site-packages\\kerastuner\\tuners\\randomsearch.py\u001b[0m in \u001b[0;36m__init__\u001b[1;34m(self, hypermodel, objective, max_trials, seed, hyperparameters, tune_new_entries, allow_new_entries, **kwargs)\u001b[0m\n\u001b[0;32m    173\u001b[0m             \u001b[0moracle\u001b[0m\u001b[1;33m,\u001b[0m\u001b[1;33m\u001b[0m\u001b[1;33m\u001b[0m\u001b[0m\n\u001b[0;32m    174\u001b[0m             \u001b[0mhypermodel\u001b[0m\u001b[1;33m,\u001b[0m\u001b[1;33m\u001b[0m\u001b[1;33m\u001b[0m\u001b[0m\n\u001b[1;32m--> 175\u001b[1;33m             **kwargs)\n\u001b[0m",
      "\u001b[1;32mE:\\Program Files (x86)\\Anaconda3\\envs\\dissertation\\lib\\site-packages\\kerastuner\\engine\\multi_execution_tuner.py\u001b[0m in \u001b[0;36m__init__\u001b[1;34m(self, oracle, hypermodel, executions_per_trial, **kwargs)\u001b[0m\n\u001b[0;32m     56\u001b[0m                  **kwargs):\n\u001b[0;32m     57\u001b[0m         super(MultiExecutionTuner, self).__init__(\n\u001b[1;32m---> 58\u001b[1;33m             oracle, hypermodel, **kwargs)\n\u001b[0m\u001b[0;32m     59\u001b[0m         \u001b[1;32mif\u001b[0m \u001b[0misinstance\u001b[0m\u001b[1;33m(\u001b[0m\u001b[0moracle\u001b[0m\u001b[1;33m.\u001b[0m\u001b[0mobjective\u001b[0m\u001b[1;33m,\u001b[0m \u001b[0mlist\u001b[0m\u001b[1;33m)\u001b[0m\u001b[1;33m:\u001b[0m\u001b[1;33m\u001b[0m\u001b[1;33m\u001b[0m\u001b[0m\n\u001b[0;32m     60\u001b[0m             raise ValueError(\n",
      "\u001b[1;32mE:\\Program Files (x86)\\Anaconda3\\envs\\dissertation\\lib\\site-packages\\kerastuner\\engine\\tuner.py\u001b[0m in \u001b[0;36m__init__\u001b[1;34m(self, oracle, hypermodel, max_model_size, optimizer, loss, metrics, distribution_strategy, directory, project_name, logger, tuner_id, overwrite)\u001b[0m\n\u001b[0;32m    101\u001b[0m                                     \u001b[0mproject_name\u001b[0m\u001b[1;33m=\u001b[0m\u001b[0mproject_name\u001b[0m\u001b[1;33m,\u001b[0m\u001b[1;33m\u001b[0m\u001b[1;33m\u001b[0m\u001b[0m\n\u001b[0;32m    102\u001b[0m                                     \u001b[0mlogger\u001b[0m\u001b[1;33m=\u001b[0m\u001b[0mlogger\u001b[0m\u001b[1;33m,\u001b[0m\u001b[1;33m\u001b[0m\u001b[1;33m\u001b[0m\u001b[0m\n\u001b[1;32m--> 103\u001b[1;33m                                     overwrite=overwrite)\n\u001b[0m\u001b[0;32m    104\u001b[0m \u001b[1;33m\u001b[0m\u001b[0m\n\u001b[0;32m    105\u001b[0m         \u001b[0mself\u001b[0m\u001b[1;33m.\u001b[0m\u001b[0mdistribution_strategy\u001b[0m \u001b[1;33m=\u001b[0m \u001b[0mdistribution_strategy\u001b[0m\u001b[1;33m\u001b[0m\u001b[1;33m\u001b[0m\u001b[0m\n",
      "\u001b[1;32mE:\\Program Files (x86)\\Anaconda3\\envs\\dissertation\\lib\\site-packages\\kerastuner\\engine\\base_tuner.py\u001b[0m in \u001b[0;36m__init__\u001b[1;34m(self, oracle, hypermodel, directory, project_name, logger, overwrite)\u001b[0m\n\u001b[0;32m     89\u001b[0m         \u001b[0mself\u001b[0m\u001b[1;33m.\u001b[0m\u001b[0m_display\u001b[0m \u001b[1;33m=\u001b[0m \u001b[0mtuner_utils\u001b[0m\u001b[1;33m.\u001b[0m\u001b[0mDisplay\u001b[0m\u001b[1;33m(\u001b[0m\u001b[1;33m)\u001b[0m\u001b[1;33m\u001b[0m\u001b[1;33m\u001b[0m\u001b[0m\n\u001b[0;32m     90\u001b[0m \u001b[1;33m\u001b[0m\u001b[0m\n\u001b[1;32m---> 91\u001b[1;33m         \u001b[0mself\u001b[0m\u001b[1;33m.\u001b[0m\u001b[0m_populate_initial_space\u001b[0m\u001b[1;33m(\u001b[0m\u001b[1;33m)\u001b[0m\u001b[1;33m\u001b[0m\u001b[1;33m\u001b[0m\u001b[0m\n\u001b[0m\u001b[0;32m     92\u001b[0m \u001b[1;33m\u001b[0m\u001b[0m\n\u001b[0;32m     93\u001b[0m         \u001b[1;32mif\u001b[0m \u001b[1;32mnot\u001b[0m \u001b[0moverwrite\u001b[0m \u001b[1;32mand\u001b[0m \u001b[0mtf\u001b[0m\u001b[1;33m.\u001b[0m\u001b[0mio\u001b[0m\u001b[1;33m.\u001b[0m\u001b[0mgfile\u001b[0m\u001b[1;33m.\u001b[0m\u001b[0mexists\u001b[0m\u001b[1;33m(\u001b[0m\u001b[0mself\u001b[0m\u001b[1;33m.\u001b[0m\u001b[0m_get_tuner_fname\u001b[0m\u001b[1;33m(\u001b[0m\u001b[1;33m)\u001b[0m\u001b[1;33m)\u001b[0m\u001b[1;33m:\u001b[0m\u001b[1;33m\u001b[0m\u001b[1;33m\u001b[0m\u001b[0m\n",
      "\u001b[1;32mE:\\Program Files (x86)\\Anaconda3\\envs\\dissertation\\lib\\site-packages\\kerastuner\\engine\\base_tuner.py\u001b[0m in \u001b[0;36m_populate_initial_space\u001b[1;34m(self)\u001b[0m\n\u001b[0;32m    104\u001b[0m         \"\"\"\n\u001b[0;32m    105\u001b[0m         \u001b[0mhp\u001b[0m \u001b[1;33m=\u001b[0m \u001b[0mself\u001b[0m\u001b[1;33m.\u001b[0m\u001b[0moracle\u001b[0m\u001b[1;33m.\u001b[0m\u001b[0mget_space\u001b[0m\u001b[1;33m(\u001b[0m\u001b[1;33m)\u001b[0m\u001b[1;33m\u001b[0m\u001b[1;33m\u001b[0m\u001b[0m\n\u001b[1;32m--> 106\u001b[1;33m         \u001b[0mself\u001b[0m\u001b[1;33m.\u001b[0m\u001b[0mhypermodel\u001b[0m\u001b[1;33m.\u001b[0m\u001b[0mbuild\u001b[0m\u001b[1;33m(\u001b[0m\u001b[0mhp\u001b[0m\u001b[1;33m)\u001b[0m\u001b[1;33m\u001b[0m\u001b[1;33m\u001b[0m\u001b[0m\n\u001b[0m\u001b[0;32m    107\u001b[0m         \u001b[0mself\u001b[0m\u001b[1;33m.\u001b[0m\u001b[0moracle\u001b[0m\u001b[1;33m.\u001b[0m\u001b[0mupdate_space\u001b[0m\u001b[1;33m(\u001b[0m\u001b[0mhp\u001b[0m\u001b[1;33m)\u001b[0m\u001b[1;33m\u001b[0m\u001b[1;33m\u001b[0m\u001b[0m\n\u001b[0;32m    108\u001b[0m \u001b[1;33m\u001b[0m\u001b[0m\n",
      "\u001b[1;32mE:\\Program Files (x86)\\Anaconda3\\envs\\dissertation\\lib\\site-packages\\kerastuner\\engine\\hypermodel.py\u001b[0m in \u001b[0;36m_build_wrapper\u001b[1;34m(self, hp, *args, **kwargs)\u001b[0m\n\u001b[0;32m     63\u001b[0m             \u001b[1;31m# to the search space.\u001b[0m\u001b[1;33m\u001b[0m\u001b[1;33m\u001b[0m\u001b[1;33m\u001b[0m\u001b[0m\n\u001b[0;32m     64\u001b[0m             \u001b[0mhp\u001b[0m \u001b[1;33m=\u001b[0m \u001b[0mhp\u001b[0m\u001b[1;33m.\u001b[0m\u001b[0mcopy\u001b[0m\u001b[1;33m(\u001b[0m\u001b[1;33m)\u001b[0m\u001b[1;33m\u001b[0m\u001b[1;33m\u001b[0m\u001b[0m\n\u001b[1;32m---> 65\u001b[1;33m         \u001b[1;32mreturn\u001b[0m \u001b[0mself\u001b[0m\u001b[1;33m.\u001b[0m\u001b[0m_build\u001b[0m\u001b[1;33m(\u001b[0m\u001b[0mhp\u001b[0m\u001b[1;33m,\u001b[0m \u001b[1;33m*\u001b[0m\u001b[0margs\u001b[0m\u001b[1;33m,\u001b[0m \u001b[1;33m**\u001b[0m\u001b[0mkwargs\u001b[0m\u001b[1;33m)\u001b[0m\u001b[1;33m\u001b[0m\u001b[1;33m\u001b[0m\u001b[0m\n\u001b[0m\u001b[0;32m     66\u001b[0m \u001b[1;33m\u001b[0m\u001b[0m\n\u001b[0;32m     67\u001b[0m \u001b[1;33m\u001b[0m\u001b[0m\n",
      "\u001b[1;32mE:\\Program Files (x86)\\Anaconda3\\envs\\dissertation\\lib\\site-packages\\kerastuner\\engine\\hypermodel.py\u001b[0m in \u001b[0;36mbuild\u001b[1;34m(self, hp)\u001b[0m\n\u001b[0;32m    113\u001b[0m                 \u001b[1;32mif\u001b[0m \u001b[0mi\u001b[0m \u001b[1;33m==\u001b[0m \u001b[0mself\u001b[0m\u001b[1;33m.\u001b[0m\u001b[0m_max_fail_streak\u001b[0m\u001b[1;33m:\u001b[0m\u001b[1;33m\u001b[0m\u001b[1;33m\u001b[0m\u001b[0m\n\u001b[0;32m    114\u001b[0m                     raise RuntimeError(\n\u001b[1;32m--> 115\u001b[1;33m                         'Too many failed attempts to build model.')\n\u001b[0m\u001b[0;32m    116\u001b[0m                 \u001b[1;32mcontinue\u001b[0m\u001b[1;33m\u001b[0m\u001b[1;33m\u001b[0m\u001b[0m\n\u001b[0;32m    117\u001b[0m \u001b[1;33m\u001b[0m\u001b[0m\n",
      "\u001b[1;31mRuntimeError\u001b[0m: Too many failed attempts to build model."
     ]
    }
   ],
   "source": [
    "from kerastuner import HyperModel\n",
    "from kerastuner.tuners import RandomSearch\n",
    "\n",
    "\n",
    "#TODO Test with and without padding\n",
    "#TODO Test max and average pooling\n",
    "#TODO Test strides, Test Dropout\n",
    "\n",
    "def build_model(hp=None):\n",
    "    model_cnn = Sequential()\n",
    "    e = Embedding(NUM_WORDS, 300, weights=[embedding_matrix], input_length=longest+5, trainable=False)\n",
    "    model_cnn.add(e)\n",
    "\n",
    "    # model_cnn.add(Conv1D(filters=hp.Int('input_units', min_value=32, max_value=200, step=2), kernel_size=3, padding='valid', activation='relu', strides=1))\n",
    "\n",
    "    model_cnn.add(Conv1D(filters=hp.Int(f'conv_units', min_value=32, max_value=256, step=32), kernel_size=hp.Int(f'kernel_size_units', min_value=1, max_value=5, step=1), padding='valid', activation=hp.Choice(f'conv_activation', values=['relu', 'tanh', 'selu',  'elu'], default='relu'), strides=hp.Int(f'strides_units', min_value=1, max_value=4, step=1)))\n",
    "\n",
    "    model_cnn.add(GlobalMaxPooling1D())\n",
    "    \n",
    "    \n",
    "    model_cnn.add(Dense(256, activation='relu'))\n",
    "    model_cnn.add(Dense(1, activation='sigmoid'))\n",
    "    model_cnn.compile(loss='binary_crossentropy', optimizer='adam', metrics=['accuracy'])\n",
    "    return model_cnn\n",
    "\n",
    "\n",
    "tuner = RandomSearch(\n",
    "    build_model,\n",
    "    objective= 'val_accuracy',\n",
    "    max_trials = 4,\n",
    "    executions_per_trial = 1,\n",
    "    directory = 'random_search',\n",
    "    overwrite = True\n",
    ")\n",
    "\n",
    "tuner.search(\n",
    "    x=X_train,\n",
    "    y=y_train,\n",
    "    epochs=1,\n",
    "    batch_size=32,\n",
    "    validation_data=(X_test, np.array(y_test))\n",
    ")"
   ]
  },
  {
   "cell_type": "code",
   "execution_count": 11,
   "metadata": {},
   "outputs": [
    {
     "output_type": "stream",
     "name": "stderr",
     "text": [
      "Traceback (most recent call last):\n",
      "  File \"E:\\Program Files (x86)\\Anaconda3\\envs\\dissertation\\lib\\site-packages\\kerastuner\\engine\\hypermodel.py\", line 105, in build\n",
      "    model = self.hypermodel.build(hp)\n",
      "  File \"<ipython-input-11-2d24448070c9>\", line 17, in build_model\n",
      "    model_cnn.add(Conv1D(filters=hp.Int(f'conv_{i}_units', min_value=32, max_value=256, step=32), kernel_size=hp.Int(f'kernel_size_{i}_units', min_value=1, max_value=5, step=1), padding='valid', activation=hp.Choice(f'conv_{i}_activation', values=['relu', 'tanh', 'selu',  'elu'], default='relu'), strides=hp.Int(f'strides_{i}_units', min_value=1, max_value=4, step=1)))\n",
      "  File \"E:\\Program Files (x86)\\Anaconda3\\envs\\dissertation\\lib\\site-packages\\tensorflow_core\\python\\training\\tracking\\base.py\", line 457, in _method_wrapper\n",
      "    result = method(self, *args, **kwargs)\n",
      "  File \"E:\\Program Files (x86)\\Anaconda3\\envs\\dissertation\\lib\\site-packages\\tensorflow_core\\python\\keras\\engine\\sequential.py\", line 203, in add\n",
      "    output_tensor = layer(self.outputs[0])\n",
      "  File \"E:\\Program Files (x86)\\Anaconda3\\envs\\dissertation\\lib\\site-packages\\tensorflow_core\\python\\keras\\engine\\base_layer.py\", line 737, in __call__\n",
      "    self.name)\n",
      "  File \"E:\\Program Files (x86)\\Anaconda3\\envs\\dissertation\\lib\\site-packages\\tensorflow_core\\python\\keras\\engine\\input_spec.py\", line 177, in assert_input_compatibility\n",
      "    str(x.shape.as_list()))\n",
      "ValueError: Input 0 of layer conv1d_1 is incompatible with the layer: expected ndim=3, found ndim=2. Full shape received: [None, 32]\n"
     ]
    },
    {
     "output_type": "display_data",
     "data": {
      "text/plain": "<IPython.core.display.HTML object>",
      "text/html": "<span style=\"color:yellow\">[Warning] Invalid model 0/5</span>"
     },
     "metadata": {}
    },
    {
     "output_type": "stream",
     "name": "stderr",
     "text": [
      "Traceback (most recent call last):\n",
      "  File \"E:\\Program Files (x86)\\Anaconda3\\envs\\dissertation\\lib\\site-packages\\kerastuner\\engine\\hypermodel.py\", line 105, in build\n",
      "    model = self.hypermodel.build(hp)\n",
      "  File \"<ipython-input-11-2d24448070c9>\", line 17, in build_model\n",
      "    model_cnn.add(Conv1D(filters=hp.Int(f'conv_{i}_units', min_value=32, max_value=256, step=32), kernel_size=hp.Int(f'kernel_size_{i}_units', min_value=1, max_value=5, step=1), padding='valid', activation=hp.Choice(f'conv_{i}_activation', values=['relu', 'tanh', 'selu',  'elu'], default='relu'), strides=hp.Int(f'strides_{i}_units', min_value=1, max_value=4, step=1)))\n",
      "  File \"E:\\Program Files (x86)\\Anaconda3\\envs\\dissertation\\lib\\site-packages\\tensorflow_core\\python\\training\\tracking\\base.py\", line 457, in _method_wrapper\n",
      "    result = method(self, *args, **kwargs)\n",
      "  File \"E:\\Program Files (x86)\\Anaconda3\\envs\\dissertation\\lib\\site-packages\\tensorflow_core\\python\\keras\\engine\\sequential.py\", line 203, in add\n",
      "    output_tensor = layer(self.outputs[0])\n",
      "  File \"E:\\Program Files (x86)\\Anaconda3\\envs\\dissertation\\lib\\site-packages\\tensorflow_core\\python\\keras\\engine\\base_layer.py\", line 737, in __call__\n",
      "    self.name)\n",
      "  File \"E:\\Program Files (x86)\\Anaconda3\\envs\\dissertation\\lib\\site-packages\\tensorflow_core\\python\\keras\\engine\\input_spec.py\", line 177, in assert_input_compatibility\n",
      "    str(x.shape.as_list()))\n",
      "ValueError: Input 0 of layer conv1d_1 is incompatible with the layer: expected ndim=3, found ndim=2. Full shape received: [None, 32]\n"
     ]
    },
    {
     "output_type": "display_data",
     "data": {
      "text/plain": "<IPython.core.display.HTML object>",
      "text/html": "<span style=\"color:yellow\">[Warning] Invalid model 1/5</span>"
     },
     "metadata": {}
    },
    {
     "output_type": "stream",
     "name": "stderr",
     "text": [
      "Traceback (most recent call last):\n",
      "  File \"E:\\Program Files (x86)\\Anaconda3\\envs\\dissertation\\lib\\site-packages\\kerastuner\\engine\\hypermodel.py\", line 105, in build\n",
      "    model = self.hypermodel.build(hp)\n",
      "  File \"<ipython-input-11-2d24448070c9>\", line 17, in build_model\n",
      "    model_cnn.add(Conv1D(filters=hp.Int(f'conv_{i}_units', min_value=32, max_value=256, step=32), kernel_size=hp.Int(f'kernel_size_{i}_units', min_value=1, max_value=5, step=1), padding='valid', activation=hp.Choice(f'conv_{i}_activation', values=['relu', 'tanh', 'selu',  'elu'], default='relu'), strides=hp.Int(f'strides_{i}_units', min_value=1, max_value=4, step=1)))\n",
      "  File \"E:\\Program Files (x86)\\Anaconda3\\envs\\dissertation\\lib\\site-packages\\tensorflow_core\\python\\training\\tracking\\base.py\", line 457, in _method_wrapper\n",
      "    result = method(self, *args, **kwargs)\n",
      "  File \"E:\\Program Files (x86)\\Anaconda3\\envs\\dissertation\\lib\\site-packages\\tensorflow_core\\python\\keras\\engine\\sequential.py\", line 203, in add\n",
      "    output_tensor = layer(self.outputs[0])\n",
      "  File \"E:\\Program Files (x86)\\Anaconda3\\envs\\dissertation\\lib\\site-packages\\tensorflow_core\\python\\keras\\engine\\base_layer.py\", line 737, in __call__\n",
      "    self.name)\n",
      "  File \"E:\\Program Files (x86)\\Anaconda3\\envs\\dissertation\\lib\\site-packages\\tensorflow_core\\python\\keras\\engine\\input_spec.py\", line 177, in assert_input_compatibility\n",
      "    str(x.shape.as_list()))\n",
      "ValueError: Input 0 of layer conv1d_1 is incompatible with the layer: expected ndim=3, found ndim=2. Full shape received: [None, 32]\n"
     ]
    },
    {
     "output_type": "display_data",
     "data": {
      "text/plain": "<IPython.core.display.HTML object>",
      "text/html": "<span style=\"color:yellow\">[Warning] Invalid model 2/5</span>"
     },
     "metadata": {}
    },
    {
     "output_type": "stream",
     "name": "stderr",
     "text": [
      "Traceback (most recent call last):\n",
      "  File \"E:\\Program Files (x86)\\Anaconda3\\envs\\dissertation\\lib\\site-packages\\kerastuner\\engine\\hypermodel.py\", line 105, in build\n",
      "    model = self.hypermodel.build(hp)\n",
      "  File \"<ipython-input-11-2d24448070c9>\", line 17, in build_model\n",
      "    model_cnn.add(Conv1D(filters=hp.Int(f'conv_{i}_units', min_value=32, max_value=256, step=32), kernel_size=hp.Int(f'kernel_size_{i}_units', min_value=1, max_value=5, step=1), padding='valid', activation=hp.Choice(f'conv_{i}_activation', values=['relu', 'tanh', 'selu',  'elu'], default='relu'), strides=hp.Int(f'strides_{i}_units', min_value=1, max_value=4, step=1)))\n",
      "  File \"E:\\Program Files (x86)\\Anaconda3\\envs\\dissertation\\lib\\site-packages\\tensorflow_core\\python\\training\\tracking\\base.py\", line 457, in _method_wrapper\n",
      "    result = method(self, *args, **kwargs)\n",
      "  File \"E:\\Program Files (x86)\\Anaconda3\\envs\\dissertation\\lib\\site-packages\\tensorflow_core\\python\\keras\\engine\\sequential.py\", line 203, in add\n",
      "    output_tensor = layer(self.outputs[0])\n",
      "  File \"E:\\Program Files (x86)\\Anaconda3\\envs\\dissertation\\lib\\site-packages\\tensorflow_core\\python\\keras\\engine\\base_layer.py\", line 737, in __call__\n",
      "    self.name)\n",
      "  File \"E:\\Program Files (x86)\\Anaconda3\\envs\\dissertation\\lib\\site-packages\\tensorflow_core\\python\\keras\\engine\\input_spec.py\", line 177, in assert_input_compatibility\n",
      "    str(x.shape.as_list()))\n",
      "ValueError: Input 0 of layer conv1d_1 is incompatible with the layer: expected ndim=3, found ndim=2. Full shape received: [None, 32]\n"
     ]
    },
    {
     "output_type": "display_data",
     "data": {
      "text/plain": "<IPython.core.display.HTML object>",
      "text/html": "<span style=\"color:yellow\">[Warning] Invalid model 3/5</span>"
     },
     "metadata": {}
    },
    {
     "output_type": "stream",
     "name": "stderr",
     "text": [
      "Traceback (most recent call last):\n",
      "  File \"E:\\Program Files (x86)\\Anaconda3\\envs\\dissertation\\lib\\site-packages\\kerastuner\\engine\\hypermodel.py\", line 105, in build\n",
      "    model = self.hypermodel.build(hp)\n",
      "  File \"<ipython-input-11-2d24448070c9>\", line 17, in build_model\n",
      "    model_cnn.add(Conv1D(filters=hp.Int(f'conv_{i}_units', min_value=32, max_value=256, step=32), kernel_size=hp.Int(f'kernel_size_{i}_units', min_value=1, max_value=5, step=1), padding='valid', activation=hp.Choice(f'conv_{i}_activation', values=['relu', 'tanh', 'selu',  'elu'], default='relu'), strides=hp.Int(f'strides_{i}_units', min_value=1, max_value=4, step=1)))\n",
      "  File \"E:\\Program Files (x86)\\Anaconda3\\envs\\dissertation\\lib\\site-packages\\tensorflow_core\\python\\training\\tracking\\base.py\", line 457, in _method_wrapper\n",
      "    result = method(self, *args, **kwargs)\n",
      "  File \"E:\\Program Files (x86)\\Anaconda3\\envs\\dissertation\\lib\\site-packages\\tensorflow_core\\python\\keras\\engine\\sequential.py\", line 203, in add\n",
      "    output_tensor = layer(self.outputs[0])\n",
      "  File \"E:\\Program Files (x86)\\Anaconda3\\envs\\dissertation\\lib\\site-packages\\tensorflow_core\\python\\keras\\engine\\base_layer.py\", line 737, in __call__\n",
      "    self.name)\n",
      "  File \"E:\\Program Files (x86)\\Anaconda3\\envs\\dissertation\\lib\\site-packages\\tensorflow_core\\python\\keras\\engine\\input_spec.py\", line 177, in assert_input_compatibility\n",
      "    str(x.shape.as_list()))\n",
      "ValueError: Input 0 of layer conv1d_1 is incompatible with the layer: expected ndim=3, found ndim=2. Full shape received: [None, 32]\n"
     ]
    },
    {
     "output_type": "display_data",
     "data": {
      "text/plain": "<IPython.core.display.HTML object>",
      "text/html": "<span style=\"color:yellow\">[Warning] Invalid model 4/5</span>"
     },
     "metadata": {}
    },
    {
     "output_type": "stream",
     "name": "stderr",
     "text": [
      "Traceback (most recent call last):\n",
      "  File \"E:\\Program Files (x86)\\Anaconda3\\envs\\dissertation\\lib\\site-packages\\kerastuner\\engine\\hypermodel.py\", line 105, in build\n",
      "    model = self.hypermodel.build(hp)\n",
      "  File \"<ipython-input-11-2d24448070c9>\", line 17, in build_model\n",
      "    model_cnn.add(Conv1D(filters=hp.Int(f'conv_{i}_units', min_value=32, max_value=256, step=32), kernel_size=hp.Int(f'kernel_size_{i}_units', min_value=1, max_value=5, step=1), padding='valid', activation=hp.Choice(f'conv_{i}_activation', values=['relu', 'tanh', 'selu',  'elu'], default='relu'), strides=hp.Int(f'strides_{i}_units', min_value=1, max_value=4, step=1)))\n",
      "  File \"E:\\Program Files (x86)\\Anaconda3\\envs\\dissertation\\lib\\site-packages\\tensorflow_core\\python\\training\\tracking\\base.py\", line 457, in _method_wrapper\n",
      "    result = method(self, *args, **kwargs)\n",
      "  File \"E:\\Program Files (x86)\\Anaconda3\\envs\\dissertation\\lib\\site-packages\\tensorflow_core\\python\\keras\\engine\\sequential.py\", line 203, in add\n",
      "    output_tensor = layer(self.outputs[0])\n",
      "  File \"E:\\Program Files (x86)\\Anaconda3\\envs\\dissertation\\lib\\site-packages\\tensorflow_core\\python\\keras\\engine\\base_layer.py\", line 737, in __call__\n",
      "    self.name)\n",
      "  File \"E:\\Program Files (x86)\\Anaconda3\\envs\\dissertation\\lib\\site-packages\\tensorflow_core\\python\\keras\\engine\\input_spec.py\", line 177, in assert_input_compatibility\n",
      "    str(x.shape.as_list()))\n",
      "ValueError: Input 0 of layer conv1d_1 is incompatible with the layer: expected ndim=3, found ndim=2. Full shape received: [None, 32]\n"
     ]
    },
    {
     "output_type": "display_data",
     "data": {
      "text/plain": "<IPython.core.display.HTML object>",
      "text/html": "<span style=\"color:yellow\">[Warning] Invalid model 5/5</span>"
     },
     "metadata": {}
    },
    {
     "output_type": "error",
     "ename": "RuntimeError",
     "evalue": "Too many failed attempts to build model.",
     "traceback": [
      "\u001b[1;31m---------------------------------------------------------------------------\u001b[0m",
      "\u001b[1;31mValueError\u001b[0m                                Traceback (most recent call last)",
      "\u001b[1;32mE:\\Program Files (x86)\\Anaconda3\\envs\\dissertation\\lib\\site-packages\\kerastuner\\engine\\hypermodel.py\u001b[0m in \u001b[0;36mbuild\u001b[1;34m(self, hp)\u001b[0m\n\u001b[0;32m    104\u001b[0m                 \u001b[1;32mwith\u001b[0m \u001b[0mmaybe_distribute\u001b[0m\u001b[1;33m(\u001b[0m\u001b[0mself\u001b[0m\u001b[1;33m.\u001b[0m\u001b[0mdistribution_strategy\u001b[0m\u001b[1;33m)\u001b[0m\u001b[1;33m:\u001b[0m\u001b[1;33m\u001b[0m\u001b[1;33m\u001b[0m\u001b[0m\n\u001b[1;32m--> 105\u001b[1;33m                     \u001b[0mmodel\u001b[0m \u001b[1;33m=\u001b[0m \u001b[0mself\u001b[0m\u001b[1;33m.\u001b[0m\u001b[0mhypermodel\u001b[0m\u001b[1;33m.\u001b[0m\u001b[0mbuild\u001b[0m\u001b[1;33m(\u001b[0m\u001b[0mhp\u001b[0m\u001b[1;33m)\u001b[0m\u001b[1;33m\u001b[0m\u001b[1;33m\u001b[0m\u001b[0m\n\u001b[0m\u001b[0;32m    106\u001b[0m             \u001b[1;32mexcept\u001b[0m\u001b[1;33m:\u001b[0m\u001b[1;33m\u001b[0m\u001b[1;33m\u001b[0m\u001b[0m\n",
      "\u001b[1;32m<ipython-input-11-2d24448070c9>\u001b[0m in \u001b[0;36mbuild_model\u001b[1;34m(hp)\u001b[0m\n\u001b[0;32m     16\u001b[0m     \u001b[1;32mfor\u001b[0m \u001b[0mi\u001b[0m \u001b[1;32min\u001b[0m \u001b[0mrange\u001b[0m\u001b[1;33m(\u001b[0m\u001b[0mhp\u001b[0m\u001b[1;33m.\u001b[0m\u001b[0mInt\u001b[0m\u001b[1;33m(\u001b[0m\u001b[1;34m'n_layers'\u001b[0m\u001b[1;33m,\u001b[0m \u001b[1;36m1\u001b[0m\u001b[1;33m,\u001b[0m \u001b[1;36m2\u001b[0m\u001b[1;33m)\u001b[0m\u001b[1;33m)\u001b[0m\u001b[1;33m:\u001b[0m\u001b[1;33m\u001b[0m\u001b[1;33m\u001b[0m\u001b[0m\n\u001b[1;32m---> 17\u001b[1;33m         \u001b[0mmodel_cnn\u001b[0m\u001b[1;33m.\u001b[0m\u001b[0madd\u001b[0m\u001b[1;33m(\u001b[0m\u001b[0mConv1D\u001b[0m\u001b[1;33m(\u001b[0m\u001b[0mfilters\u001b[0m\u001b[1;33m=\u001b[0m\u001b[0mhp\u001b[0m\u001b[1;33m.\u001b[0m\u001b[0mInt\u001b[0m\u001b[1;33m(\u001b[0m\u001b[1;34mf'conv_{i}_units'\u001b[0m\u001b[1;33m,\u001b[0m \u001b[0mmin_value\u001b[0m\u001b[1;33m=\u001b[0m\u001b[1;36m32\u001b[0m\u001b[1;33m,\u001b[0m \u001b[0mmax_value\u001b[0m\u001b[1;33m=\u001b[0m\u001b[1;36m256\u001b[0m\u001b[1;33m,\u001b[0m \u001b[0mstep\u001b[0m\u001b[1;33m=\u001b[0m\u001b[1;36m32\u001b[0m\u001b[1;33m)\u001b[0m\u001b[1;33m,\u001b[0m \u001b[0mkernel_size\u001b[0m\u001b[1;33m=\u001b[0m\u001b[0mhp\u001b[0m\u001b[1;33m.\u001b[0m\u001b[0mInt\u001b[0m\u001b[1;33m(\u001b[0m\u001b[1;34mf'kernel_size_{i}_units'\u001b[0m\u001b[1;33m,\u001b[0m \u001b[0mmin_value\u001b[0m\u001b[1;33m=\u001b[0m\u001b[1;36m1\u001b[0m\u001b[1;33m,\u001b[0m \u001b[0mmax_value\u001b[0m\u001b[1;33m=\u001b[0m\u001b[1;36m5\u001b[0m\u001b[1;33m,\u001b[0m \u001b[0mstep\u001b[0m\u001b[1;33m=\u001b[0m\u001b[1;36m1\u001b[0m\u001b[1;33m)\u001b[0m\u001b[1;33m,\u001b[0m \u001b[0mpadding\u001b[0m\u001b[1;33m=\u001b[0m\u001b[1;34m'valid'\u001b[0m\u001b[1;33m,\u001b[0m \u001b[0mactivation\u001b[0m\u001b[1;33m=\u001b[0m\u001b[0mhp\u001b[0m\u001b[1;33m.\u001b[0m\u001b[0mChoice\u001b[0m\u001b[1;33m(\u001b[0m\u001b[1;34mf'conv_{i}_activation'\u001b[0m\u001b[1;33m,\u001b[0m \u001b[0mvalues\u001b[0m\u001b[1;33m=\u001b[0m\u001b[1;33m[\u001b[0m\u001b[1;34m'relu'\u001b[0m\u001b[1;33m,\u001b[0m \u001b[1;34m'tanh'\u001b[0m\u001b[1;33m,\u001b[0m \u001b[1;34m'selu'\u001b[0m\u001b[1;33m,\u001b[0m  \u001b[1;34m'elu'\u001b[0m\u001b[1;33m]\u001b[0m\u001b[1;33m,\u001b[0m \u001b[0mdefault\u001b[0m\u001b[1;33m=\u001b[0m\u001b[1;34m'relu'\u001b[0m\u001b[1;33m)\u001b[0m\u001b[1;33m,\u001b[0m \u001b[0mstrides\u001b[0m\u001b[1;33m=\u001b[0m\u001b[0mhp\u001b[0m\u001b[1;33m.\u001b[0m\u001b[0mInt\u001b[0m\u001b[1;33m(\u001b[0m\u001b[1;34mf'strides_{i}_units'\u001b[0m\u001b[1;33m,\u001b[0m \u001b[0mmin_value\u001b[0m\u001b[1;33m=\u001b[0m\u001b[1;36m1\u001b[0m\u001b[1;33m,\u001b[0m \u001b[0mmax_value\u001b[0m\u001b[1;33m=\u001b[0m\u001b[1;36m4\u001b[0m\u001b[1;33m,\u001b[0m \u001b[0mstep\u001b[0m\u001b[1;33m=\u001b[0m\u001b[1;36m1\u001b[0m\u001b[1;33m)\u001b[0m\u001b[1;33m)\u001b[0m\u001b[1;33m)\u001b[0m\u001b[1;33m\u001b[0m\u001b[1;33m\u001b[0m\u001b[0m\n\u001b[0m\u001b[0;32m     18\u001b[0m         \u001b[0mmodel_cnn\u001b[0m\u001b[1;33m.\u001b[0m\u001b[0madd\u001b[0m\u001b[1;33m(\u001b[0m\u001b[0mGlobalMaxPooling1D\u001b[0m\u001b[1;33m(\u001b[0m\u001b[1;33m)\u001b[0m\u001b[1;33m)\u001b[0m\u001b[1;33m\u001b[0m\u001b[1;33m\u001b[0m\u001b[0m\n",
      "\u001b[1;32mE:\\Program Files (x86)\\Anaconda3\\envs\\dissertation\\lib\\site-packages\\tensorflow_core\\python\\training\\tracking\\base.py\u001b[0m in \u001b[0;36m_method_wrapper\u001b[1;34m(self, *args, **kwargs)\u001b[0m\n\u001b[0;32m    456\u001b[0m     \u001b[1;32mtry\u001b[0m\u001b[1;33m:\u001b[0m\u001b[1;33m\u001b[0m\u001b[1;33m\u001b[0m\u001b[0m\n\u001b[1;32m--> 457\u001b[1;33m       \u001b[0mresult\u001b[0m \u001b[1;33m=\u001b[0m \u001b[0mmethod\u001b[0m\u001b[1;33m(\u001b[0m\u001b[0mself\u001b[0m\u001b[1;33m,\u001b[0m \u001b[1;33m*\u001b[0m\u001b[0margs\u001b[0m\u001b[1;33m,\u001b[0m \u001b[1;33m**\u001b[0m\u001b[0mkwargs\u001b[0m\u001b[1;33m)\u001b[0m\u001b[1;33m\u001b[0m\u001b[1;33m\u001b[0m\u001b[0m\n\u001b[0m\u001b[0;32m    458\u001b[0m     \u001b[1;32mfinally\u001b[0m\u001b[1;33m:\u001b[0m\u001b[1;33m\u001b[0m\u001b[1;33m\u001b[0m\u001b[0m\n",
      "\u001b[1;32mE:\\Program Files (x86)\\Anaconda3\\envs\\dissertation\\lib\\site-packages\\tensorflow_core\\python\\keras\\engine\\sequential.py\u001b[0m in \u001b[0;36madd\u001b[1;34m(self, layer)\u001b[0m\n\u001b[0;32m    202\u001b[0m       \u001b[1;31m# refresh its output.\u001b[0m\u001b[1;33m\u001b[0m\u001b[1;33m\u001b[0m\u001b[1;33m\u001b[0m\u001b[0m\n\u001b[1;32m--> 203\u001b[1;33m       \u001b[0moutput_tensor\u001b[0m \u001b[1;33m=\u001b[0m \u001b[0mlayer\u001b[0m\u001b[1;33m(\u001b[0m\u001b[0mself\u001b[0m\u001b[1;33m.\u001b[0m\u001b[0moutputs\u001b[0m\u001b[1;33m[\u001b[0m\u001b[1;36m0\u001b[0m\u001b[1;33m]\u001b[0m\u001b[1;33m)\u001b[0m\u001b[1;33m\u001b[0m\u001b[1;33m\u001b[0m\u001b[0m\n\u001b[0m\u001b[0;32m    204\u001b[0m       \u001b[1;32mif\u001b[0m \u001b[0mlen\u001b[0m\u001b[1;33m(\u001b[0m\u001b[0mnest\u001b[0m\u001b[1;33m.\u001b[0m\u001b[0mflatten\u001b[0m\u001b[1;33m(\u001b[0m\u001b[0moutput_tensor\u001b[0m\u001b[1;33m)\u001b[0m\u001b[1;33m)\u001b[0m \u001b[1;33m!=\u001b[0m \u001b[1;36m1\u001b[0m\u001b[1;33m:\u001b[0m\u001b[1;33m\u001b[0m\u001b[1;33m\u001b[0m\u001b[0m\n",
      "\u001b[1;32mE:\\Program Files (x86)\\Anaconda3\\envs\\dissertation\\lib\\site-packages\\tensorflow_core\\python\\keras\\engine\\base_layer.py\u001b[0m in \u001b[0;36m__call__\u001b[1;34m(self, inputs, *args, **kwargs)\u001b[0m\n\u001b[0;32m    736\u001b[0m         input_spec.assert_input_compatibility(self.input_spec, inputs,\n\u001b[1;32m--> 737\u001b[1;33m                                               self.name)\n\u001b[0m\u001b[0;32m    738\u001b[0m         if (any(isinstance(x, ragged_tensor.RaggedTensor) for x in input_list)\n",
      "\u001b[1;32mE:\\Program Files (x86)\\Anaconda3\\envs\\dissertation\\lib\\site-packages\\tensorflow_core\\python\\keras\\engine\\input_spec.py\u001b[0m in \u001b[0;36massert_input_compatibility\u001b[1;34m(input_spec, inputs, layer_name)\u001b[0m\n\u001b[0;32m    176\u001b[0m                          \u001b[0mstr\u001b[0m\u001b[1;33m(\u001b[0m\u001b[0mndim\u001b[0m\u001b[1;33m)\u001b[0m \u001b[1;33m+\u001b[0m \u001b[1;34m'. Full shape received: '\u001b[0m \u001b[1;33m+\u001b[0m\u001b[1;33m\u001b[0m\u001b[1;33m\u001b[0m\u001b[0m\n\u001b[1;32m--> 177\u001b[1;33m                          str(x.shape.as_list()))\n\u001b[0m\u001b[0;32m    178\u001b[0m     \u001b[1;32mif\u001b[0m \u001b[0mspec\u001b[0m\u001b[1;33m.\u001b[0m\u001b[0mmax_ndim\u001b[0m \u001b[1;32mis\u001b[0m \u001b[1;32mnot\u001b[0m \u001b[1;32mNone\u001b[0m\u001b[1;33m:\u001b[0m\u001b[1;33m\u001b[0m\u001b[1;33m\u001b[0m\u001b[0m\n",
      "\u001b[1;31mValueError\u001b[0m: Input 0 of layer conv1d_1 is incompatible with the layer: expected ndim=3, found ndim=2. Full shape received: [None, 32]",
      "\nDuring handling of the above exception, another exception occurred:\n",
      "\u001b[1;31mRuntimeError\u001b[0m                              Traceback (most recent call last)",
      "\u001b[1;32m<ipython-input-11-2d24448070c9>\u001b[0m in \u001b[0;36m<module>\u001b[1;34m\u001b[0m\n\u001b[0;32m     30\u001b[0m     \u001b[0mexecutions_per_trial\u001b[0m \u001b[1;33m=\u001b[0m \u001b[1;36m3\u001b[0m\u001b[1;33m,\u001b[0m\u001b[1;33m\u001b[0m\u001b[1;33m\u001b[0m\u001b[0m\n\u001b[0;32m     31\u001b[0m     \u001b[0mdirectory\u001b[0m \u001b[1;33m=\u001b[0m \u001b[1;34m'log_dir'\u001b[0m\u001b[1;33m,\u001b[0m\u001b[1;33m\u001b[0m\u001b[1;33m\u001b[0m\u001b[0m\n\u001b[1;32m---> 32\u001b[1;33m     \u001b[0moverwrite\u001b[0m \u001b[1;33m=\u001b[0m \u001b[1;32mTrue\u001b[0m\u001b[1;33m\u001b[0m\u001b[1;33m\u001b[0m\u001b[0m\n\u001b[0m\u001b[0;32m     33\u001b[0m )\n\u001b[0;32m     34\u001b[0m \u001b[1;33m\u001b[0m\u001b[0m\n",
      "\u001b[1;32mE:\\Program Files (x86)\\Anaconda3\\envs\\dissertation\\lib\\site-packages\\kerastuner\\tuners\\randomsearch.py\u001b[0m in \u001b[0;36m__init__\u001b[1;34m(self, hypermodel, objective, max_trials, seed, hyperparameters, tune_new_entries, allow_new_entries, **kwargs)\u001b[0m\n\u001b[0;32m    173\u001b[0m             \u001b[0moracle\u001b[0m\u001b[1;33m,\u001b[0m\u001b[1;33m\u001b[0m\u001b[1;33m\u001b[0m\u001b[0m\n\u001b[0;32m    174\u001b[0m             \u001b[0mhypermodel\u001b[0m\u001b[1;33m,\u001b[0m\u001b[1;33m\u001b[0m\u001b[1;33m\u001b[0m\u001b[0m\n\u001b[1;32m--> 175\u001b[1;33m             **kwargs)\n\u001b[0m",
      "\u001b[1;32mE:\\Program Files (x86)\\Anaconda3\\envs\\dissertation\\lib\\site-packages\\kerastuner\\engine\\multi_execution_tuner.py\u001b[0m in \u001b[0;36m__init__\u001b[1;34m(self, oracle, hypermodel, executions_per_trial, **kwargs)\u001b[0m\n\u001b[0;32m     56\u001b[0m                  **kwargs):\n\u001b[0;32m     57\u001b[0m         super(MultiExecutionTuner, self).__init__(\n\u001b[1;32m---> 58\u001b[1;33m             oracle, hypermodel, **kwargs)\n\u001b[0m\u001b[0;32m     59\u001b[0m         \u001b[1;32mif\u001b[0m \u001b[0misinstance\u001b[0m\u001b[1;33m(\u001b[0m\u001b[0moracle\u001b[0m\u001b[1;33m.\u001b[0m\u001b[0mobjective\u001b[0m\u001b[1;33m,\u001b[0m \u001b[0mlist\u001b[0m\u001b[1;33m)\u001b[0m\u001b[1;33m:\u001b[0m\u001b[1;33m\u001b[0m\u001b[1;33m\u001b[0m\u001b[0m\n\u001b[0;32m     60\u001b[0m             raise ValueError(\n",
      "\u001b[1;32mE:\\Program Files (x86)\\Anaconda3\\envs\\dissertation\\lib\\site-packages\\kerastuner\\engine\\tuner.py\u001b[0m in \u001b[0;36m__init__\u001b[1;34m(self, oracle, hypermodel, max_model_size, optimizer, loss, metrics, distribution_strategy, directory, project_name, logger, tuner_id, overwrite)\u001b[0m\n\u001b[0;32m    101\u001b[0m                                     \u001b[0mproject_name\u001b[0m\u001b[1;33m=\u001b[0m\u001b[0mproject_name\u001b[0m\u001b[1;33m,\u001b[0m\u001b[1;33m\u001b[0m\u001b[1;33m\u001b[0m\u001b[0m\n\u001b[0;32m    102\u001b[0m                                     \u001b[0mlogger\u001b[0m\u001b[1;33m=\u001b[0m\u001b[0mlogger\u001b[0m\u001b[1;33m,\u001b[0m\u001b[1;33m\u001b[0m\u001b[1;33m\u001b[0m\u001b[0m\n\u001b[1;32m--> 103\u001b[1;33m                                     overwrite=overwrite)\n\u001b[0m\u001b[0;32m    104\u001b[0m \u001b[1;33m\u001b[0m\u001b[0m\n\u001b[0;32m    105\u001b[0m         \u001b[0mself\u001b[0m\u001b[1;33m.\u001b[0m\u001b[0mdistribution_strategy\u001b[0m \u001b[1;33m=\u001b[0m \u001b[0mdistribution_strategy\u001b[0m\u001b[1;33m\u001b[0m\u001b[1;33m\u001b[0m\u001b[0m\n",
      "\u001b[1;32mE:\\Program Files (x86)\\Anaconda3\\envs\\dissertation\\lib\\site-packages\\kerastuner\\engine\\base_tuner.py\u001b[0m in \u001b[0;36m__init__\u001b[1;34m(self, oracle, hypermodel, directory, project_name, logger, overwrite)\u001b[0m\n\u001b[0;32m     89\u001b[0m         \u001b[0mself\u001b[0m\u001b[1;33m.\u001b[0m\u001b[0m_display\u001b[0m \u001b[1;33m=\u001b[0m \u001b[0mtuner_utils\u001b[0m\u001b[1;33m.\u001b[0m\u001b[0mDisplay\u001b[0m\u001b[1;33m(\u001b[0m\u001b[1;33m)\u001b[0m\u001b[1;33m\u001b[0m\u001b[1;33m\u001b[0m\u001b[0m\n\u001b[0;32m     90\u001b[0m \u001b[1;33m\u001b[0m\u001b[0m\n\u001b[1;32m---> 91\u001b[1;33m         \u001b[0mself\u001b[0m\u001b[1;33m.\u001b[0m\u001b[0m_populate_initial_space\u001b[0m\u001b[1;33m(\u001b[0m\u001b[1;33m)\u001b[0m\u001b[1;33m\u001b[0m\u001b[1;33m\u001b[0m\u001b[0m\n\u001b[0m\u001b[0;32m     92\u001b[0m \u001b[1;33m\u001b[0m\u001b[0m\n\u001b[0;32m     93\u001b[0m         \u001b[1;32mif\u001b[0m \u001b[1;32mnot\u001b[0m \u001b[0moverwrite\u001b[0m \u001b[1;32mand\u001b[0m \u001b[0mtf\u001b[0m\u001b[1;33m.\u001b[0m\u001b[0mio\u001b[0m\u001b[1;33m.\u001b[0m\u001b[0mgfile\u001b[0m\u001b[1;33m.\u001b[0m\u001b[0mexists\u001b[0m\u001b[1;33m(\u001b[0m\u001b[0mself\u001b[0m\u001b[1;33m.\u001b[0m\u001b[0m_get_tuner_fname\u001b[0m\u001b[1;33m(\u001b[0m\u001b[1;33m)\u001b[0m\u001b[1;33m)\u001b[0m\u001b[1;33m:\u001b[0m\u001b[1;33m\u001b[0m\u001b[1;33m\u001b[0m\u001b[0m\n",
      "\u001b[1;32mE:\\Program Files (x86)\\Anaconda3\\envs\\dissertation\\lib\\site-packages\\kerastuner\\engine\\base_tuner.py\u001b[0m in \u001b[0;36m_populate_initial_space\u001b[1;34m(self)\u001b[0m\n\u001b[0;32m    104\u001b[0m         \"\"\"\n\u001b[0;32m    105\u001b[0m         \u001b[0mhp\u001b[0m \u001b[1;33m=\u001b[0m \u001b[0mself\u001b[0m\u001b[1;33m.\u001b[0m\u001b[0moracle\u001b[0m\u001b[1;33m.\u001b[0m\u001b[0mget_space\u001b[0m\u001b[1;33m(\u001b[0m\u001b[1;33m)\u001b[0m\u001b[1;33m\u001b[0m\u001b[1;33m\u001b[0m\u001b[0m\n\u001b[1;32m--> 106\u001b[1;33m         \u001b[0mself\u001b[0m\u001b[1;33m.\u001b[0m\u001b[0mhypermodel\u001b[0m\u001b[1;33m.\u001b[0m\u001b[0mbuild\u001b[0m\u001b[1;33m(\u001b[0m\u001b[0mhp\u001b[0m\u001b[1;33m)\u001b[0m\u001b[1;33m\u001b[0m\u001b[1;33m\u001b[0m\u001b[0m\n\u001b[0m\u001b[0;32m    107\u001b[0m         \u001b[0mself\u001b[0m\u001b[1;33m.\u001b[0m\u001b[0moracle\u001b[0m\u001b[1;33m.\u001b[0m\u001b[0mupdate_space\u001b[0m\u001b[1;33m(\u001b[0m\u001b[0mhp\u001b[0m\u001b[1;33m)\u001b[0m\u001b[1;33m\u001b[0m\u001b[1;33m\u001b[0m\u001b[0m\n\u001b[0;32m    108\u001b[0m \u001b[1;33m\u001b[0m\u001b[0m\n",
      "\u001b[1;32mE:\\Program Files (x86)\\Anaconda3\\envs\\dissertation\\lib\\site-packages\\kerastuner\\engine\\hypermodel.py\u001b[0m in \u001b[0;36m_build_wrapper\u001b[1;34m(self, hp, *args, **kwargs)\u001b[0m\n\u001b[0;32m     63\u001b[0m             \u001b[1;31m# to the search space.\u001b[0m\u001b[1;33m\u001b[0m\u001b[1;33m\u001b[0m\u001b[1;33m\u001b[0m\u001b[0m\n\u001b[0;32m     64\u001b[0m             \u001b[0mhp\u001b[0m \u001b[1;33m=\u001b[0m \u001b[0mhp\u001b[0m\u001b[1;33m.\u001b[0m\u001b[0mcopy\u001b[0m\u001b[1;33m(\u001b[0m\u001b[1;33m)\u001b[0m\u001b[1;33m\u001b[0m\u001b[1;33m\u001b[0m\u001b[0m\n\u001b[1;32m---> 65\u001b[1;33m         \u001b[1;32mreturn\u001b[0m \u001b[0mself\u001b[0m\u001b[1;33m.\u001b[0m\u001b[0m_build\u001b[0m\u001b[1;33m(\u001b[0m\u001b[0mhp\u001b[0m\u001b[1;33m,\u001b[0m \u001b[1;33m*\u001b[0m\u001b[0margs\u001b[0m\u001b[1;33m,\u001b[0m \u001b[1;33m**\u001b[0m\u001b[0mkwargs\u001b[0m\u001b[1;33m)\u001b[0m\u001b[1;33m\u001b[0m\u001b[1;33m\u001b[0m\u001b[0m\n\u001b[0m\u001b[0;32m     66\u001b[0m \u001b[1;33m\u001b[0m\u001b[0m\n\u001b[0;32m     67\u001b[0m \u001b[1;33m\u001b[0m\u001b[0m\n",
      "\u001b[1;32mE:\\Program Files (x86)\\Anaconda3\\envs\\dissertation\\lib\\site-packages\\kerastuner\\engine\\hypermodel.py\u001b[0m in \u001b[0;36mbuild\u001b[1;34m(self, hp)\u001b[0m\n\u001b[0;32m    113\u001b[0m                 \u001b[1;32mif\u001b[0m \u001b[0mi\u001b[0m \u001b[1;33m==\u001b[0m \u001b[0mself\u001b[0m\u001b[1;33m.\u001b[0m\u001b[0m_max_fail_streak\u001b[0m\u001b[1;33m:\u001b[0m\u001b[1;33m\u001b[0m\u001b[1;33m\u001b[0m\u001b[0m\n\u001b[0;32m    114\u001b[0m                     raise RuntimeError(\n\u001b[1;32m--> 115\u001b[1;33m                         'Too many failed attempts to build model.')\n\u001b[0m\u001b[0;32m    116\u001b[0m                 \u001b[1;32mcontinue\u001b[0m\u001b[1;33m\u001b[0m\u001b[1;33m\u001b[0m\u001b[0m\n\u001b[0;32m    117\u001b[0m \u001b[1;33m\u001b[0m\u001b[0m\n",
      "\u001b[1;31mRuntimeError\u001b[0m: Too many failed attempts to build model."
     ]
    }
   ],
   "source": [
    "from kerastuner import HyperModel\n",
    "from kerastuner.tuners import RandomSearch\n",
    "\n",
    "#TODO Test with and without padding\n",
    "#TODO Test max and average pooling\n",
    "#TODO Test strides, Test Dropout\n",
    "\n",
    "def build_model(hp=None):\n",
    "    model_cnn = Sequential()\n",
    "    e = Embedding(NUM_WORDS, 300, weights=[embedding_matrix], input_length=longest+5, trainable=False)\n",
    "    model_cnn.add(e)\n",
    "\n",
    "    model_cnn.add(Conv1D(filters=hp.Int('input_units', min_value=32, max_value=256, step=32), kernel_size=3, padding='valid', activation='relu', strides=1))\n",
    "    model_cnn.add(GlobalMaxPooling1D())\n",
    "\n",
    "    for i in range(hp.Int('n_layers', 1, 2)):\n",
    "        model_cnn.add(Conv1D(filters=hp.Int(f'conv_{i}_units', min_value=32, max_value=256, step=32), kernel_size=hp.Int(f'kernel_size_{i}_units', min_value=1, max_value=5, step=1), padding='valid', activation=hp.Choice(f'conv_{i}_activation', values=['relu', 'tanh', 'selu',  'elu'], default='relu'), strides=hp.Int(f'strides_{i}_units', min_value=1, max_value=4, step=1)))\n",
    "        model_cnn.add(GlobalMaxPooling1D())\n",
    "\n",
    "    model_cnn.add(Dense(256, activation='relu'))\n",
    "    model_cnn.add(Dense(1, activation='sigmoid'))\n",
    "    model_cnn.compile(loss='binary_crossentropy', optimizer='adam', metrics=['accuracy'])\n",
    "    return model_cnn\n",
    "\n",
    "\n",
    "tuner = RandomSearch(\n",
    "    build_model,\n",
    "    objective= 'val_accuracy',\n",
    "    max_trials = 50,\n",
    "    executions_per_trial = 3,\n",
    "    directory = 'log_dir',\n",
    "    overwrite = True\n",
    ")\n",
    "\n",
    "tuner.search(\n",
    "    x=X_train,\n",
    "    y=y_train,\n",
    "    epochs=2,\n",
    "    batch_size=64,\n",
    "    validation_data=(X_test, y_test)\n",
    ")"
   ]
  },
  {
   "cell_type": "code",
   "execution_count": 19,
   "metadata": {},
   "outputs": [
    {
     "output_type": "stream",
     "name": "stdout",
     "text": [
      "Test loss: 0.3234133296983039 / Test accuracy: 0.9180850982666016\n"
     ]
    }
   ],
   "source": [
    "# tk_test = Tokenizer()\n",
    "# tk_test.fit_on_texts(X_test)\n",
    "# index_list = tk_test.texts_to_sequences(X_test)\n",
    "# x_train_padded = pad_sequences(index_list, maxlen=longest+5)\n",
    "\n",
    "score = model_cnn.evaluate(X_test, y_test, verbose=0)\n",
    "print(f'Test loss: {score[0]} / Test accuracy: {score[1]}')"
   ]
  },
  {
   "cell_type": "code",
   "execution_count": 27,
   "metadata": {},
   "outputs": [
    {
     "output_type": "execute_result",
     "data": {
      "text/plain": [
       "array([[159,  30],\n",
       "       [ 15, 366]], dtype=int64)"
      ]
     },
     "metadata": {},
     "execution_count": 27
    }
   ],
   "source": [
    "from sklearn.metrics import confusion_matrix\n",
    "\n",
    "y_pred = (model_cnn.predict(X_test).ravel()>0.5)+0 # predict and get class (0 if pred < 0.5 else 1)\n",
    "tn, fp, fn, tp = confusion_matrix(y_test, y_pred).ravel()\n",
    "confusion_matrix(y_test, y_pred)"
   ]
  },
  {
   "cell_type": "code",
   "execution_count": 30,
   "metadata": {},
   "outputs": [
    {
     "output_type": "stream",
     "name": "stdout",
     "text": [
      "Precision:  0.921996879875195\nRecall:  0.9410828025477707\n"
     ]
    }
   ],
   "source": [
    "print(\"Precision: \", tp / (tp+fp))\n",
    "print(\"Recall: \", tp / (tp+fn))"
   ]
  },
  {
   "source": [
    "## Exporting tokenizer and trained model to store as files"
   ],
   "cell_type": "markdown",
   "metadata": {}
  },
  {
   "cell_type": "code",
   "execution_count": 29,
   "metadata": {},
   "outputs": [],
   "source": [
    "import pickle as pk\n",
    "# saving the tokenizer\n",
    "with open('tokenizer_m1.pickle', 'wb') as handle:\n",
    "    pk.dump(tokenizer, handle, protocol=pk.HIGHEST_PROTOCOL)\n",
    "    \n",
    "model_cnn.save(\"model_exported.h5\")"
   ]
  }
 ]
}