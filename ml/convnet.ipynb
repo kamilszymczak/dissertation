{
 "metadata": {
  "language_info": {
   "codemirror_mode": {
    "name": "ipython",
    "version": 3
   },
   "file_extension": ".py",
   "mimetype": "text/x-python",
   "name": "python",
   "nbconvert_exporter": "python",
   "pygments_lexer": "ipython3",
   "version": "3.7.9-final"
  },
  "orig_nbformat": 2,
  "kernelspec": {
   "name": "python3",
   "display_name": "Python 3.7.9 64-bit ('dissertation': conda)",
   "metadata": {
    "interpreter": {
     "hash": "dccb0c508fcc3265487c0045bf494404dc5148cb1c17dbd3e70d1418c59a7232"
    }
   }
  }
 },
 "nbformat": 4,
 "nbformat_minor": 2,
 "cells": [
  {
   "cell_type": "code",
   "execution_count": 6,
   "metadata": {},
   "outputs": [
    {
     "output_type": "stream",
     "name": "stdout",
     "text": [
      "E:\\Program Files (x86)\\Anaconda3\\envs\\dissertation\\python.exe\n"
     ]
    }
   ],
   "source": [
    "import sys\n",
    "print(sys.executable)"
   ]
  },
  {
   "cell_type": "code",
   "execution_count": 11,
   "metadata": {},
   "outputs": [
    {
     "output_type": "stream",
     "name": "stderr",
     "text": [
      "Using TensorFlow backend.\n"
     ]
    }
   ],
   "source": [
    "import tensorflow as tf\n",
    "from keras.models import Sequential\n",
    "from keras.layers import Dense, Conv1D, GlobalMaxPooling1D\n",
    "from keras.layers.embeddings import Embedding\n",
    "from sklearn.model_selection import train_test_split\n",
    "from nltk.tokenize import RegexpTokenizer \n",
    "from keras.preprocessing.text import Tokenizer\n",
    "from keras.preprocessing import sequence\n",
    "import numpy as np\n",
    "\n",
    "\n",
    "sys.path.append('E:\\GitHubProjects\\dissertation\\Scripts')\n",
    "import helperfn as hf\n",
    "\n",
    "%load_ext autoreload\n",
    "%autoreload 2"
   ]
  },
  {
   "cell_type": "code",
   "execution_count": 8,
   "metadata": {},
   "outputs": [],
   "source": [
    "from gensim.models import KeyedVectors"
   ]
  },
  {
   "cell_type": "code",
   "execution_count": 9,
   "metadata": {},
   "outputs": [],
   "source": [
    "embedding_model = KeyedVectors.load_word2vec_format(r'E:\\GitHubProjects\\dissertation\\word2vec\\GoogleNews-vectors-negative300.bin', binary=True)\n",
    "# If we don't plan to train the model any further, calling init_sims will make the model much more memory-efficient.\n",
    "embedding_model.init_sims(replace=True)"
   ]
  },
  {
   "cell_type": "code",
   "execution_count": 5,
   "metadata": {},
   "outputs": [],
   "source": [
    "#Get Data\n",
    "data = hf.merge_datasets(r'E:\\GitHubProjects\\dissertation\\scraper\\approved_datasets')\n",
    "\n",
    "#Clean reivews (X)\n",
    "\n",
    "# #Remove stop words\n",
    "# X = X.apply(lambda x: hf.remove_punctuations(x))\n",
    "\n",
    "#Tokenizing the text using NLTK\n",
    "#Tokenize [TODO dont split apostrophe e.g. don't but students' ] \n",
    "# TODO ******. doesnt segment full stop \n",
    "# tokenizer = RegexpTokenizer(pattern='\\w+|\\$[\\d\\.]+|\\S+')\n",
    "# tokenizer = RegexpTokenizer(r'\\w+')\n",
    "# https://stackoverflow.com/questions/42056872/how-to-remove-in-strings-with-regexptokenizer\n",
    "tokenizer = RegexpTokenizer(r'[\\w\\']+') #not seperating apostrophe\n",
    "\n",
    "\n",
    "data['tokenized_text'] = data['review'].apply(lambda x: tokenizer.tokenize(x)) \n",
    "\n",
    "#lower case\n",
    "data['tokenized_text'] = data['tokenized_text'].apply(lambda x: hf.lower_token(x))\n"
   ]
  },
  {
   "cell_type": "code",
   "execution_count": null,
   "metadata": {},
   "outputs": [],
   "source": [
    "model = Sequential()\n",
    "\n",
    "# Embedding Layer, output dimension is 300 because word2vec 300d\n",
    "embedding_layer = Embedding(vocab_size, embedding_vecor_length, weights=[embedding_matrix], input_length=max_review_length), trainable=True)\n",
    "\n",
    "sequence_input = Input(shape=(max_sequence_length,), dtype='int32')\n",
    "embedded_sequences = embedding_layer(sequence_input)\n",
    "\n",
    "\n",
    "model.add(Convolution1D(64, 3, border_mode='same'))\n",
    "model.add(Convolution1D(32, 3, border_mode='same'))\n",
    "model.add(Convolution1D(16, 3, border_mode='same'))\n",
    "model.add(Flatten())\n",
    "model.add(Dropout(0.2))\n",
    "model.add(Dense(180,activation='sigmoid'))\n",
    "model.add(Dropout(0.2))\n",
    "model.add(Dense(1,activation='sigmoid'))\n",
    "#Compile the model\n",
    "model.compile(loss='binary_crossentropy', optimizer='adam', metrics=['accuracy'])\n",
    "\n",
    "#Display summary of the model\n",
    "print(model.summary())\n",
    "\n",
    "# Fit the model\n",
    "model.fit(X_train, Y_train,\n",
    "          batch_size=batch_size,\n",
    "          shuffle=True,\n",
    "          epochs=nb_epochs,\n",
    "          validation_data=(X_test, Y_test),\n",
    "          callbacks=[EarlyStopping(min_delta=0.00025, patience=2)])\n",
    "\n",
    "# model_cnn = Sequential()\n",
    "# e = Embedding(100000, 100, input_length=1000)\n",
    "# model_cnn.add(e)\n",
    "# model_cnn.add(Conv1D(filters=100, kernel_size=2, padding='valid', activation='relu', strides=1))\n",
    "# model_cnn.add(GlobalMaxPooling1D())\n",
    "# model_cnn.add(Dense(256, activation='relu'))\n",
    "# model_cnn.add(Dense(1, activation='sigmoid'))\n",
    "# model_cnn.compile(loss='binary_crossentropy', optimizer='adam', metrics=['accuracy'])\n",
    "# model_cnn.fit(x_train_seq, y_train, validation_data=(x_val_seq, y_validation), epochs=5, batch_size=32, verbose=2)\n",
    "# score,acc = model_cnn.evaluate(x_val_seq, y_validation, verbose = 2, batch_size = 32)\n",
    "# print(\"score: %.2f\" % (score))\n",
    "# print(\"acc: %.2f\" % (acc))"
   ]
  },
  {
   "source": [
    "## Loading and Pre-processing the dataset"
   ],
   "cell_type": "markdown",
   "metadata": {}
  },
  {
   "cell_type": "code",
   "execution_count": 10,
   "metadata": {
    "tags": []
   },
   "outputs": [],
   "source": [
    "from nltk.corpus import stopwords\n",
    "stop = stopwords.words('english')\n",
    "#convert to set for faster retrival\n",
    "stop = set(stop)\n",
    "stop_to_remove = {'no', 'nor', 'not' , 'very', 'don', \"don't\", \"aren't\", 'couldn', \"couldn't\", 'didn', \"didn't\",\n",
    "      'doesn', \"doesn't\", 'hadn', \"hadn't\", 'hasn', \"hasn't\", 'haven', \"haven't\",\n",
    "      'isn', \"isn't\", 'mightn', \"mightn't\", 'mustn', \"mustn't\", 'needn', \"needn't\", 'shan', \"shan't\",\n",
    "      'shouldn', \"shouldn't\", 'wasn', \"wasn't\", 'weren', \"weren't\", 'won', \"won't\", 'wouldn', \"wouldn't\"}\n",
    "\n",
    "uni_names = {'anglia', 'ruskin', 'birmingham', 'brunel', 'buckinghamshire', 'cardiff', 'metropolitan', 'napier', 'heriot', 'watt', 'kingston', 'liverpool', 'metropolitan', 'south', 'middlesex', 'oxford', 'brookes', 'teesside', 'westminster', 'wolverhampton', 'suffolk', 'ltd', 'london', 'aberdeen', 'abertay', 'dundee', 'bedfordshire', 'cumbria', 'derby', 'east london', 'edinburgh', 'glasgow', 'northampton', 'salford', 'south', 'wales', 'stirling', 'strathclyde', 'sunderland', 'west', 'scotland', 'ulster', 'worcester'}\n",
    "\n",
    "#remove negations as stopwords as they provide valauble meaning and should not be removed\n",
    "stop =  stop.difference(stop_to_remove)\n",
    "\n",
    "#Get Data\n",
    "data = hf.merge_datasets(r'E:\\GitHubProjects\\dissertation\\scraper\\approved_datasets')\n",
    "# data = hf.balance_dataset(data)\n",
    "\n",
    "#Clean reivews (X)\n",
    "\n",
    "# #Remove stop words\n",
    "# X = X.apply(lambda x: hf.remove_punctuations(x))\n",
    "\n",
    "#Tokenizing the text using NLTK\n",
    "#Tokenize [TODO dont split apostrophe e.g. don't but students' ] \n",
    "# TODO ******. doesnt segment full stop \n",
    "# https://stackoverflow.com/questions/42056872/how-to-remove-in-strings-with-regexptokenizer\n",
    "tokenizer = RegexpTokenizer(r'[\\w\\']+') #not seperating apostrophe\n",
    "\n",
    "\n",
    "data['tokenized_text'] = data['review'].apply(lambda x: tokenizer.tokenize(x)) \n",
    "\n",
    "#lower case\n",
    "data['tokenized_text'] = data['tokenized_text'].apply(lambda x: hf.lower_token(x))\n",
    "\n",
    "#remove stop words\n",
    "data['tokenized_text'] = data['tokenized_text'].apply(lambda x: [item for item in x if item not in stop])\n",
    "\n",
    "#remove university names as they impact accuracy, these words should be neutral sentiment \n",
    "data['tokenized_text'] = data['tokenized_text'].apply(lambda x: [item for item in x if item not in uni_names])\n",
    "\n",
    "X, y = data['tokenized_text'], list(data['score'])"
   ]
  },
  {
   "cell_type": "code",
   "execution_count": 12,
   "metadata": {},
   "outputs": [],
   "source": [
    "from keras.preprocessing.text import Tokenizer\n",
    "from keras.preprocessing.sequence import pad_sequences\n",
    "\n",
    "#vocab size?\n",
    "NUM_WORDS = 10000\n",
    "tokenizer = Tokenizer(num_words=NUM_WORDS)\n",
    "tokenizer.fit_on_texts(X)\n",
    "sequences = tokenizer.texts_to_sequences(X)"
   ]
  },
  {
   "cell_type": "code",
   "execution_count": 14,
   "metadata": {},
   "outputs": [],
   "source": [
    "#finding the maximum number of words the longests sentence contains\n",
    "# longest = 0\n",
    "# for x in X_train:\n",
    "#     if len(x.split()) > longest:\n",
    "#         longest = len(x.split())\n",
    "\n",
    "#VERSION FOR TOKENIZED ROWS\n",
    "longest = 0\n",
    "for x in X:\n",
    "    if len(x) > longest:\n",
    "        longest = len(x)\n",
    "\n",
    "\n",
    "#padding sequences to have the same length\n",
    "x_train_seq = pad_sequences(sequences, maxlen=longest+5)"
   ]
  },
  {
   "cell_type": "code",
   "execution_count": 23,
   "metadata": {},
   "outputs": [
    {
     "output_type": "error",
     "ename": "AttributeError",
     "evalue": "'numpy.ndarray' object has no attribute 'lower'",
     "traceback": [
      "\u001b[1;31m---------------------------------------------------------------------------\u001b[0m",
      "\u001b[1;31mAttributeError\u001b[0m                            Traceback (most recent call last)",
      "\u001b[1;32m<ipython-input-23-2dc688e09f8c>\u001b[0m in \u001b[0;36m<module>\u001b[1;34m\u001b[0m\n\u001b[1;32m----> 1\u001b[1;33m \u001b[0msequences_val\u001b[0m \u001b[1;33m=\u001b[0m \u001b[0mtokenizer\u001b[0m\u001b[1;33m.\u001b[0m\u001b[0mtexts_to_sequences\u001b[0m\u001b[1;33m(\u001b[0m\u001b[0mX_test\u001b[0m\u001b[1;33m)\u001b[0m\u001b[1;33m\u001b[0m\u001b[1;33m\u001b[0m\u001b[0m\n\u001b[0m\u001b[0;32m      2\u001b[0m \u001b[0mx_val_seq\u001b[0m \u001b[1;33m=\u001b[0m \u001b[0mpad_sequences\u001b[0m\u001b[1;33m(\u001b[0m\u001b[0msequences_val\u001b[0m\u001b[1;33m,\u001b[0m \u001b[0mmaxlen\u001b[0m\u001b[1;33m=\u001b[0m\u001b[0mlongest\u001b[0m\u001b[1;33m+\u001b[0m\u001b[1;36m5\u001b[0m\u001b[1;33m)\u001b[0m\u001b[1;33m\u001b[0m\u001b[1;33m\u001b[0m\u001b[0m\n",
      "\u001b[1;32mE:\\Program Files (x86)\\Anaconda3\\envs\\dissertation\\lib\\site-packages\\keras_preprocessing\\text.py\u001b[0m in \u001b[0;36mtexts_to_sequences\u001b[1;34m(self, texts)\u001b[0m\n\u001b[0;32m    277\u001b[0m             \u001b[0mA\u001b[0m \u001b[0mlist\u001b[0m \u001b[0mof\u001b[0m \u001b[0msequences\u001b[0m\u001b[1;33m.\u001b[0m\u001b[1;33m\u001b[0m\u001b[1;33m\u001b[0m\u001b[0m\n\u001b[0;32m    278\u001b[0m         \"\"\"\n\u001b[1;32m--> 279\u001b[1;33m         \u001b[1;32mreturn\u001b[0m \u001b[0mlist\u001b[0m\u001b[1;33m(\u001b[0m\u001b[0mself\u001b[0m\u001b[1;33m.\u001b[0m\u001b[0mtexts_to_sequences_generator\u001b[0m\u001b[1;33m(\u001b[0m\u001b[0mtexts\u001b[0m\u001b[1;33m)\u001b[0m\u001b[1;33m)\u001b[0m\u001b[1;33m\u001b[0m\u001b[1;33m\u001b[0m\u001b[0m\n\u001b[0m\u001b[0;32m    280\u001b[0m \u001b[1;33m\u001b[0m\u001b[0m\n\u001b[0;32m    281\u001b[0m     \u001b[1;32mdef\u001b[0m \u001b[0mtexts_to_sequences_generator\u001b[0m\u001b[1;33m(\u001b[0m\u001b[0mself\u001b[0m\u001b[1;33m,\u001b[0m \u001b[0mtexts\u001b[0m\u001b[1;33m)\u001b[0m\u001b[1;33m:\u001b[0m\u001b[1;33m\u001b[0m\u001b[1;33m\u001b[0m\u001b[0m\n",
      "\u001b[1;32mE:\\Program Files (x86)\\Anaconda3\\envs\\dissertation\\lib\\site-packages\\keras_preprocessing\\text.py\u001b[0m in \u001b[0;36mtexts_to_sequences_generator\u001b[1;34m(self, texts)\u001b[0m\n\u001b[0;32m    308\u001b[0m                                             \u001b[0mself\u001b[0m\u001b[1;33m.\u001b[0m\u001b[0mfilters\u001b[0m\u001b[1;33m,\u001b[0m\u001b[1;33m\u001b[0m\u001b[1;33m\u001b[0m\u001b[0m\n\u001b[0;32m    309\u001b[0m                                             \u001b[0mself\u001b[0m\u001b[1;33m.\u001b[0m\u001b[0mlower\u001b[0m\u001b[1;33m,\u001b[0m\u001b[1;33m\u001b[0m\u001b[1;33m\u001b[0m\u001b[0m\n\u001b[1;32m--> 310\u001b[1;33m                                             self.split)\n\u001b[0m\u001b[0;32m    311\u001b[0m             \u001b[0mvect\u001b[0m \u001b[1;33m=\u001b[0m \u001b[1;33m[\u001b[0m\u001b[1;33m]\u001b[0m\u001b[1;33m\u001b[0m\u001b[1;33m\u001b[0m\u001b[0m\n\u001b[0;32m    312\u001b[0m             \u001b[1;32mfor\u001b[0m \u001b[0mw\u001b[0m \u001b[1;32min\u001b[0m \u001b[0mseq\u001b[0m\u001b[1;33m:\u001b[0m\u001b[1;33m\u001b[0m\u001b[1;33m\u001b[0m\u001b[0m\n",
      "\u001b[1;32mE:\\Program Files (x86)\\Anaconda3\\envs\\dissertation\\lib\\site-packages\\keras_preprocessing\\text.py\u001b[0m in \u001b[0;36mtext_to_word_sequence\u001b[1;34m(text, filters, lower, split)\u001b[0m\n\u001b[0;32m     41\u001b[0m     \"\"\"\n\u001b[0;32m     42\u001b[0m     \u001b[1;32mif\u001b[0m \u001b[0mlower\u001b[0m\u001b[1;33m:\u001b[0m\u001b[1;33m\u001b[0m\u001b[1;33m\u001b[0m\u001b[0m\n\u001b[1;32m---> 43\u001b[1;33m         \u001b[0mtext\u001b[0m \u001b[1;33m=\u001b[0m \u001b[0mtext\u001b[0m\u001b[1;33m.\u001b[0m\u001b[0mlower\u001b[0m\u001b[1;33m(\u001b[0m\u001b[1;33m)\u001b[0m\u001b[1;33m\u001b[0m\u001b[1;33m\u001b[0m\u001b[0m\n\u001b[0m\u001b[0;32m     44\u001b[0m \u001b[1;33m\u001b[0m\u001b[0m\n\u001b[0;32m     45\u001b[0m     \u001b[1;32mif\u001b[0m \u001b[0msys\u001b[0m\u001b[1;33m.\u001b[0m\u001b[0mversion_info\u001b[0m \u001b[1;33m<\u001b[0m \u001b[1;33m(\u001b[0m\u001b[1;36m3\u001b[0m\u001b[1;33m,\u001b[0m\u001b[1;33m)\u001b[0m\u001b[1;33m:\u001b[0m\u001b[1;33m\u001b[0m\u001b[1;33m\u001b[0m\u001b[0m\n",
      "\u001b[1;31mAttributeError\u001b[0m: 'numpy.ndarray' object has no attribute 'lower'"
     ]
    }
   ],
   "source": [
    "sequences_val = tokenizer.texts_to_sequences(X_test)\n",
    "x_val_seq = pad_sequences(sequences_val, maxlen=longest+5)"
   ]
  },
  {
   "cell_type": "code",
   "execution_count": 15,
   "metadata": {},
   "outputs": [],
   "source": [
    "# Split the data\n",
    "X_train, X_test, y_train, y_test = train_test_split(x_train_seq, y, test_size=0.33, shuffle=True, stratify=y, random_state=8)"
   ]
  },
  {
   "cell_type": "code",
   "execution_count": 16,
   "metadata": {},
   "outputs": [],
   "source": [
    "#Word Embeddings\n",
    "#length of vectors in embedding word2vec\n",
    "embedding_vecor_length = 300\n",
    "embedding_matrix = np.zeros((NUM_WORDS, embedding_vecor_length))\n",
    "\n",
    "for word, i in tokenizer.word_index.items():\n",
    "    if i >= NUM_WORDS:\n",
    "        continue\n",
    "    try:\n",
    "        embedding_vector = embedding_model[word]\n",
    "        if embedding_vector is not None:\n",
    "            embedding_matrix[i] = embedding_vector\n",
    "    except:\n",
    "        pass\n",
    "        # embedding_matrix[i]=np.random.normal(0,np.sqrt(0.25), embedding_vecor_length)"
   ]
  },
  {
   "cell_type": "code",
   "execution_count": 17,
   "metadata": {},
   "outputs": [],
   "source": [
    "from keras.models import Sequential\n",
    "from keras.layers import Dense, Dropout\n",
    "from keras.layers import Flatten\n",
    "from keras.layers.embeddings import Embedding\n",
    "from keras.layers import MaxPooling1D"
   ]
  },
  {
   "cell_type": "code",
   "execution_count": null,
   "metadata": {},
   "outputs": [],
   "source": [
    "    model_cnn = Sequential()\n",
    "    e = Embedding(NUM_WORDS, 300, weights=[embedding_matrix], input_length=longest+5, trainable=False)\n",
    "    model_cnn.add(e)\n",
    "    model_cnn.add(Conv1D(filters=100, kernel_size=3, padding='valid', activation='relu', strides=1))\n",
    "    model_cnn.add(GlobalMaxPooling1D())\n",
    "    model_cnn.add(Dense(256, activation='relu'))\n",
    "    model_cnn.add(Dense(1, activation='sigmoid'))\n",
    "    model_cnn.compile(loss='binary_crossentropy', optimizer='adam', metrics=['accuracy'])\n",
    "    # model_cnn.fit(X_train, y_train, validation_data=(X_test, y_test), epochs=9, batch_size=32, verbose=2)"
   ]
  },
  {
   "cell_type": "code",
   "execution_count": 18,
   "metadata": {},
   "outputs": [
    {
     "output_type": "stream",
     "name": "stdout",
     "text": [
      "Train on 1907 samples, validate on 940 samples\n",
      "Epoch 1/9\n",
      " - 11s - loss: 0.4843 - accuracy: 0.7493 - val_loss: 0.3390 - val_accuracy: 0.8543\n",
      "Epoch 2/9\n",
      " - 0s - loss: 0.2541 - accuracy: 0.8988 - val_loss: 0.2500 - val_accuracy: 0.9032\n",
      "Epoch 3/9\n",
      " - 0s - loss: 0.1493 - accuracy: 0.9470 - val_loss: 0.2374 - val_accuracy: 0.9085\n",
      "Epoch 4/9\n",
      " - 0s - loss: 0.0853 - accuracy: 0.9785 - val_loss: 0.2393 - val_accuracy: 0.9170\n",
      "Epoch 5/9\n",
      " - 0s - loss: 0.0397 - accuracy: 0.9937 - val_loss: 0.2579 - val_accuracy: 0.9160\n",
      "Epoch 6/9\n",
      " - 0s - loss: 0.0211 - accuracy: 0.9974 - val_loss: 0.2789 - val_accuracy: 0.9138\n",
      "Epoch 7/9\n",
      " - 0s - loss: 0.0112 - accuracy: 0.9979 - val_loss: 0.2990 - val_accuracy: 0.9181\n",
      "Epoch 8/9\n",
      " - 0s - loss: 0.0060 - accuracy: 0.9990 - val_loss: 0.3126 - val_accuracy: 0.9160\n",
      "Epoch 9/9\n",
      " - 0s - loss: 0.0047 - accuracy: 0.9990 - val_loss: 0.3234 - val_accuracy: 0.9181\n"
     ]
    },
    {
     "output_type": "execute_result",
     "data": {
      "text/plain": [
       "<keras.callbacks.callbacks.History at 0x17bb95cfbc8>"
      ]
     },
     "metadata": {},
     "execution_count": 18
    }
   ],
   "source": [
    "from kerastuner import HyperModel\n",
    "\n",
    "def build_model(hp=None):\n",
    "    model_cnn = Sequential()\n",
    "    e = Embedding(NUM_WORDS, 300, weights=[embedding_matrix], input_length=longest+5, trainable=False)\n",
    "    model_cnn.add(e)\n",
    "\n",
    "    model_cnn.add(Conv1D(filters=hp.Int('input_units', min_value=32, max_value=256, step=32), kernel_size=3, padding='valid', activation='relu', strides=1))\n",
    "    model_cnn.add(GlobalMaxPooling1D())\n",
    "\n",
    "    for i in range(hp.Int('n_layers', 1, 4)):\n",
    "        model_cnn.add(Conv1D(filters=hp.Int(f'conv_{i}_units', min_value=32, max_value=256, step=32), kernel_size=3, padding='valid', activation=hp.Choice(f'conv_{i}_activation', values=['relu', 'tanh', 'selu',  'elu'], default='relu'), strides=1))\n",
    "        model_cnn.add(GlobalMaxPooling1D())\n",
    "\n",
    "    model_cnn.add(Dense(256, activation='relu'))\n",
    "    model_cnn.add(Dense(1, activation='sigmoid'))\n",
    "    model_cnn.compile(loss='binary_crossentropy', optimizer='adam', metrics=['accuracy'])\n",
    "    return model_cnn\n",
    "\n",
    "\n",
    "tuner = RandomSearch(\n",
    "    build_model,\n",
    "    objective= 'val_acccuracy',\n",
    "    max_trials = 5,\n",
    "    executions_per_trial = 2,\n",
    "    directory = LOG_DIR\n",
    ")\n",
    "\n",
    "tuner.search(\n",
    "    x=X_train,\n",
    "    y=y_train,\n",
    "    epochs=7,\n",
    "    batch_size=64,\n",
    "    validation_data=(X_test, y_test)\n",
    ")"
   ]
  },
  {
   "cell_type": "code",
   "execution_count": 19,
   "metadata": {},
   "outputs": [
    {
     "output_type": "stream",
     "name": "stdout",
     "text": [
      "Test loss: 0.3234133296983039 / Test accuracy: 0.9180850982666016\n"
     ]
    }
   ],
   "source": [
    "# tk_test = Tokenizer()\n",
    "# tk_test.fit_on_texts(X_test)\n",
    "# index_list = tk_test.texts_to_sequences(X_test)\n",
    "# x_train_padded = pad_sequences(index_list, maxlen=longest+5)\n",
    "\n",
    "score = model_cnn.evaluate(X_test, y_test, verbose=0)\n",
    "print(f'Test loss: {score[0]} / Test accuracy: {score[1]}')"
   ]
  },
  {
   "cell_type": "code",
   "execution_count": 14,
   "metadata": {},
   "outputs": [
    {
     "output_type": "execute_result",
     "data": {
      "text/plain": [
       "array([[254,  58],\n",
       "       [ 36, 592]], dtype=int64)"
      ]
     },
     "metadata": {},
     "execution_count": 14
    }
   ],
   "source": [
    "from sklearn.metrics import confusion_matrix\n",
    "\n",
    "y_pred = (model_cnn.predict(X_test).ravel()>0.5)+0 # predict and get class (0 if pred < 0.5 else 1)\n",
    "tn, fp, fn, tp = confusion_matrix(y_test, y_pred).ravel()\n",
    "confusion_matrix(y_test, y_pred)"
   ]
  },
  {
   "cell_type": "code",
   "execution_count": 30,
   "metadata": {},
   "outputs": [
    {
     "output_type": "stream",
     "name": "stdout",
     "text": [
      "Precision:  0.921996879875195\nRecall:  0.9410828025477707\n"
     ]
    }
   ],
   "source": [
    "print(\"Precision: \", tp / (tp+fp))\n",
    "print(\"Recall: \", tp / (tp+fn))"
   ]
  },
  {
   "source": [
    "## Exporting tokenizer and trained model to files"
   ],
   "cell_type": "markdown",
   "metadata": {}
  },
  {
   "cell_type": "code",
   "execution_count": 20,
   "metadata": {},
   "outputs": [],
   "source": [
    "import pickle as pk\n",
    "# saving the tokenizer\n",
    "with open('tokenizer_m1.pickle', 'wb') as handle:\n",
    "    pk.dump(tokenizer, handle, protocol=pk.HIGHEST_PROTOCOL)\n",
    "    \n",
    "model_cnn.save(\"model_exported.h5\")"
   ]
  },
  {
   "cell_type": "code",
   "execution_count": 21,
   "metadata": {},
   "outputs": [
    {
     "output_type": "execute_result",
     "data": {
      "text/plain": [
       "True"
      ]
     },
     "metadata": {},
     "execution_count": 21
    }
   ],
   "source": [
    "len(y_pred) == len(y_test)"
   ]
  },
  {
   "cell_type": "code",
   "execution_count": null,
   "metadata": {},
   "outputs": [],
   "source": []
  }
 ]
}